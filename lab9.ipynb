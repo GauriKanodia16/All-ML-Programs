{
  "nbformat": 4,
  "nbformat_minor": 0,
  "metadata": {
    "colab": {
      "provenance": []
    },
    "kernelspec": {
      "name": "python3",
      "display_name": "Python 3"
    },
    "language_info": {
      "name": "python"
    }
  },
  "cells": [
    {
      "cell_type": "code",
      "execution_count": null,
      "metadata": {
        "id": "-kab7fL69fsV"
      },
      "outputs": [],
      "source": [
        "import numpy as np\n",
        "import pandas as pd\n",
        "import matplotlib.pyplot as plt\n",
        "from scipy import stats\n",
        "from sklearn import preprocessing\n",
        "scaler = preprocessing.MinMaxScaler()\n",
        "import seaborn as sns;sns.set()"
      ]
    },
    {
      "cell_type": "code",
      "source": [
        "df = pd.read_csv(\"/content/indian_airquality2.csv\")"
      ],
      "metadata": {
        "id": "D7QZZhBl9gL_"
      },
      "execution_count": null,
      "outputs": []
    },
    {
      "cell_type": "code",
      "source": [
        "df.shape"
      ],
      "metadata": {
        "colab": {
          "base_uri": "https://localhost:8080/"
        },
        "id": "1BVkZWTMAvrm",
        "outputId": "6b69481c-40fb-4910-9653-594ddb17ff14"
      },
      "execution_count": null,
      "outputs": [
        {
          "output_type": "execute_result",
          "data": {
            "text/plain": [
              "(1801, 10)"
            ]
          },
          "metadata": {},
          "execution_count": 30
        }
      ]
    },
    {
      "cell_type": "code",
      "source": [
        "df = df.head(50)"
      ],
      "metadata": {
        "id": "YJ5a0maO9gNi"
      },
      "execution_count": null,
      "outputs": []
    },
    {
      "cell_type": "code",
      "source": [
        "df.shape"
      ],
      "metadata": {
        "colab": {
          "base_uri": "https://localhost:8080/"
        },
        "id": "Qy76kPOeAtnK",
        "outputId": "7982bb24-ba98-4677-8453-62229253fc4a"
      },
      "execution_count": null,
      "outputs": [
        {
          "output_type": "execute_result",
          "data": {
            "text/plain": [
              "(50, 10)"
            ]
          },
          "metadata": {},
          "execution_count": 32
        }
      ]
    },
    {
      "cell_type": "code",
      "source": [
        "df2 = df[['pollutant_min','pollutant_max','pollutant_avg']]"
      ],
      "metadata": {
        "id": "bFDgVRlm9gQf"
      },
      "execution_count": null,
      "outputs": []
    },
    {
      "cell_type": "code",
      "source": [
        "X = df2[['pollutant_min','pollutant_max']]"
      ],
      "metadata": {
        "id": "G_11GqaL9gSK"
      },
      "execution_count": null,
      "outputs": []
    },
    {
      "cell_type": "code",
      "source": [
        "Y = df2[['pollutant_avg']]"
      ],
      "metadata": {
        "id": "_Z7Dydfa9gVX"
      },
      "execution_count": null,
      "outputs": []
    },
    {
      "cell_type": "code",
      "source": [
        "df2.shape"
      ],
      "metadata": {
        "colab": {
          "base_uri": "https://localhost:8080/"
        },
        "id": "PATQnWttAnZo",
        "outputId": "4a757664-38fe-43fe-b283-85bbd2512f53"
      },
      "execution_count": null,
      "outputs": [
        {
          "output_type": "execute_result",
          "data": {
            "text/plain": [
              "(50, 3)"
            ]
          },
          "metadata": {},
          "execution_count": 36
        }
      ]
    },
    {
      "cell_type": "code",
      "source": [
        "from sklearn.model_selection import train_test_split  \n",
        "X_train, X_test, Y_train, Y_test = train_test_split(X, Y, random_state = 42, test_size =0.2)"
      ],
      "metadata": {
        "id": "xoxNLCrZ9gXA"
      },
      "execution_count": null,
      "outputs": []
    },
    {
      "cell_type": "code",
      "source": [
        "X_train.shape, X_test.shape, Y_train.shape, Y_test.shape"
      ],
      "metadata": {
        "colab": {
          "base_uri": "https://localhost:8080/"
        },
        "id": "sfXMmECK9gaJ",
        "outputId": "ddc896cb-ef3e-4a24-abe4-9bcfc935e6dd"
      },
      "execution_count": null,
      "outputs": [
        {
          "output_type": "execute_result",
          "data": {
            "text/plain": [
              "((40, 2), (10, 2), (40, 1), (10, 1))"
            ]
          },
          "metadata": {},
          "execution_count": 38
        }
      ]
    },
    {
      "cell_type": "code",
      "source": [
        "from sklearn.neural_network import MLPClassifier\n",
        "from sklearn.neural_network import MLPRegressor"
      ],
      "metadata": {
        "id": "ZRRMfltv9gbq"
      },
      "execution_count": null,
      "outputs": []
    },
    {
      "cell_type": "code",
      "source": [
        "mlp = MLPClassifier(random_state=42)\n",
        "mlp.fit(X_train,Y_train)"
      ],
      "metadata": {
        "colab": {
          "base_uri": "https://localhost:8080/"
        },
        "id": "nWFvo9rY9gex",
        "outputId": "4c1a123f-cafb-4d71-f99d-99baf9de9814"
      },
      "execution_count": null,
      "outputs": [
        {
          "output_type": "stream",
          "name": "stderr",
          "text": [
            "/usr/local/lib/python3.7/dist-packages/sklearn/neural_network/_multilayer_perceptron.py:1109: DataConversionWarning: A column-vector y was passed when a 1d array was expected. Please change the shape of y to (n_samples, ), for example using ravel().\n",
            "  y = column_or_1d(y, warn=True)\n",
            "/usr/local/lib/python3.7/dist-packages/sklearn/neural_network/_multilayer_perceptron.py:696: ConvergenceWarning: Stochastic Optimizer: Maximum iterations (200) reached and the optimization hasn't converged yet.\n",
            "  ConvergenceWarning,\n"
          ]
        },
        {
          "output_type": "execute_result",
          "data": {
            "text/plain": [
              "MLPClassifier(random_state=42)"
            ]
          },
          "metadata": {},
          "execution_count": 40
        }
      ]
    },
    {
      "cell_type": "code",
      "source": [
        "mlp.coefs_"
      ],
      "metadata": {
        "colab": {
          "base_uri": "https://localhost:8080/"
        },
        "id": "X9QzDC4x9ggR",
        "outputId": "fe7f07d0-02cf-4e79-c82b-8360ce0757a4"
      },
      "execution_count": null,
      "outputs": [
        {
          "output_type": "execute_result",
          "data": {
            "text/plain": [
              "[array([[-2.38863104e-04,  2.66912965e-01,  9.86977749e-02,\n",
              "          1.33537931e-02, -1.67819416e-01, -3.68237657e-02,\n",
              "         -6.96800988e-02,  1.93053147e-01,  9.22844885e-07,\n",
              "          6.13728698e-03, -8.36694826e-02,  3.28567382e-01,\n",
              "          1.32863080e-01, -1.27006362e-01, -1.75896000e-01,\n",
              "         -1.04144158e-01, -1.06911421e-01, -2.56342782e-03,\n",
              "         -8.04356611e-02, -1.82863128e-01,  2.63677069e-02,\n",
              "         -1.55339922e-01, -6.10833656e-03, -4.21746687e-04,\n",
              "         -1.18477447e-06,  1.58155358e-01, -1.24093292e-01,\n",
              "         -1.89339706e-02,  3.42119176e-02, -2.68485962e-01,\n",
              "          1.26284349e-01, -3.25469832e-02, -6.71521687e-02,\n",
              "          2.68169527e-01,  1.66531490e-01,  2.17586901e-01,\n",
              "         -2.34580744e-01, -1.95174634e-01,  1.50078105e-01,\n",
              "         -6.73738728e-02, -1.70536964e-01, -4.32360899e-02,\n",
              "         -2.06550913e-01,  1.85571679e-01, -1.14042829e-02,\n",
              "          4.77293551e-02, -1.25504287e-01,  4.83937237e-02,\n",
              "          2.13121595e-03, -1.13581760e-01,  2.05221303e-01,\n",
              "          4.70980711e-02,  1.98840113e-01,  1.61866461e-01,\n",
              "          1.66503819e-02,  2.49544153e-01, -2.20019873e-01,\n",
              "         -1.57675117e-01, -7.44057521e-02, -1.09823372e-01,\n",
              "          1.05955509e-02, -9.18495674e-02,  1.38210071e-01,\n",
              "         -8.92073944e-02, -5.93529350e-02,  3.96937794e-02,\n",
              "         -1.66879862e-01,  2.68529308e-01, -6.37458131e-02,\n",
              "          2.33695370e-01,  1.39176426e-01,  3.73033799e-03,\n",
              "         -2.50837793e-01,  1.21405217e-01,  9.54964255e-02,\n",
              "          9.27068196e-03,  1.06897104e-01, -1.01738302e-01,\n",
              "         -6.29818645e-02,  1.86629918e-02,  2.44055304e-01,\n",
              "          2.00882646e-04, -4.00393055e-02, -2.59287222e-01,\n",
              "         -2.67846620e-02, -9.25436162e-02,  7.42186052e-02,\n",
              "          5.55302585e-02,  2.46556981e-01,  9.37210512e-02,\n",
              "         -4.82967106e-02,  6.35778178e-02,  1.29981717e-01,\n",
              "          6.30252594e-02,  2.18651447e-01, -1.10698422e-02,\n",
              "         -4.44945564e-03, -4.73226244e-02, -1.99689097e-01,\n",
              "         -1.47683236e-01],\n",
              "        [-7.95610199e-02,  8.69827274e-02, -1.02906192e-01,\n",
              "         -2.36441678e-02,  1.96907079e-01, -1.32104469e-02,\n",
              "          1.52114907e-05,  1.10040012e-01, -1.75313866e-02,\n",
              "         -6.28823206e-02, -6.43136886e-03, -1.30638752e-01,\n",
              "          1.82779652e-01,  1.39899160e-01,  8.84622036e-02,\n",
              "          1.63208348e-01,  1.34339283e-01, -1.29193504e-01,\n",
              "          1.83729465e-01,  7.70922710e-02,  1.31691503e-01,\n",
              "          1.64716676e-01, -3.19389744e-03, -5.14639972e-02,\n",
              "         -1.77253646e-02, -1.20914572e-03,  1.56737816e-01,\n",
              "          1.55356893e-01, -2.34583633e-01,  4.46385822e-02,\n",
              "         -3.66399547e-02, -1.90595457e-02, -4.82076225e-02,\n",
              "         -4.06468031e-02,  1.92153262e-01, -7.51268035e-02,\n",
              "          4.32778274e-02,  1.40469878e-01, -6.54686302e-02,\n",
              "          2.03876571e-01,  2.46124941e-01, -1.61262581e-01,\n",
              "         -6.81684802e-03, -1.07157499e-01, -7.12227796e-03,\n",
              "         -2.55654866e-01,  5.55129766e-02,  2.19078954e-02,\n",
              "         -2.37990893e-01, -7.23816105e-02,  1.73273651e-01,\n",
              "         -6.23047952e-02, -1.79186848e-01, -2.29192239e-02,\n",
              "          2.12484786e-01, -1.55075400e-01,  1.12233718e-01,\n",
              "          1.26601830e-01, -1.55994948e-02,  1.02531847e-01,\n",
              "         -7.29516705e-03,  7.68731756e-02,  8.49101072e-02,\n",
              "          4.42665693e-02, -1.41772745e-01,  1.87654155e-01,\n",
              "          5.35889881e-02, -1.39869749e-01, -7.60600250e-02,\n",
              "          4.06382678e-02,  7.22643417e-02, -2.76107981e-02,\n",
              "         -5.68703144e-03, -1.60820617e-01,  9.68987393e-02,\n",
              "         -3.14480260e-02,  6.23287897e-02,  1.17405828e-02,\n",
              "          1.84113065e-01, -8.89576154e-03, -7.61372676e-02,\n",
              "         -5.03212835e-02,  2.06982092e-01,  1.48970621e-01,\n",
              "         -1.85975575e-03,  6.97746542e-02,  1.69312574e-01,\n",
              "          2.11226834e-03,  2.79770047e-03, -4.46220409e-02,\n",
              "         -5.72345325e-02,  1.83631020e-01,  1.81465967e-01,\n",
              "          5.82926656e-02, -4.64056583e-02, -2.17760925e-02,\n",
              "          8.29882040e-02,  1.64115362e-01,  1.86241403e-01,\n",
              "          1.65406574e-01]]),\n",
              " array([[-5.33666013e-02, -9.15946642e-07, -4.61888440e-07, ...,\n",
              "          2.96455178e-06, -8.24048952e-03, -2.70223205e-04],\n",
              "        [-8.12423218e-02, -3.45937205e-01, -1.98742658e-01, ...,\n",
              "          4.42707744e-02, -2.41723763e-02,  8.26967515e-02],\n",
              "        [-5.03519591e-02, -1.45035633e-02,  1.54607031e-01, ...,\n",
              "          1.76791686e-01, -7.89250885e-02, -8.48390426e-02],\n",
              "        ...,\n",
              "        [-3.34730166e-01, -2.14231725e-01, -3.80479276e-02, ...,\n",
              "          1.01325518e-01,  2.06694505e-01,  1.20362710e-01],\n",
              "        [ 2.20995370e-01,  2.35076275e-01,  1.49699835e-01, ...,\n",
              "         -9.16658841e-02, -6.42795277e-02, -1.38393393e-01],\n",
              "        [-1.07512750e-01, -2.73046514e-01,  1.79611417e-02, ...,\n",
              "          1.36203988e-01, -6.89215438e-02,  3.42791219e-02]])]"
            ]
          },
          "metadata": {},
          "execution_count": 41
        }
      ]
    },
    {
      "cell_type": "code",
      "source": [
        "mlp.intercepts_"
      ],
      "metadata": {
        "colab": {
          "base_uri": "https://localhost:8080/"
        },
        "id": "rscLTXSs9gjw",
        "outputId": "b69ad1b3-5c00-402c-f70d-294a9d092aa6"
      },
      "execution_count": null,
      "outputs": [
        {
          "output_type": "execute_result",
          "data": {
            "text/plain": [
              "[array([ 6.88954681e-02, -3.34612280e-01, -1.72666494e-01,  2.42347143e-01,\n",
              "        -2.95517696e-02, -2.38074400e-01, -1.93314697e-01,  2.26190832e-01,\n",
              "        -2.40080396e-01, -1.64532263e-01,  2.36393601e-02,  2.08279839e-01,\n",
              "         1.40979425e-01, -2.37239628e-01,  2.77151057e-01, -9.70039054e-02,\n",
              "         1.19310220e-02,  1.12794165e-01,  2.04639690e-01,  4.01259785e-01,\n",
              "         1.52155816e-01, -7.70773502e-02, -1.97096688e-01, -6.41672608e-02,\n",
              "        -1.13893581e-01, -1.93003769e-01,  3.00882595e-01, -5.51414995e-02,\n",
              "         1.84901981e-01,  6.82110889e-03,  3.56828410e-01,  1.27917805e-03,\n",
              "         3.73038635e-02, -1.00938741e-01, -2.33123220e-01,  3.31269701e-01,\n",
              "         2.27033871e-02, -3.50626769e-01,  3.02623394e-01, -1.10515096e-01,\n",
              "         2.22784587e-01,  1.79277532e-01,  1.94862830e-01,  1.74378966e-02,\n",
              "        -2.35038065e-01,  1.76674269e-01,  1.73083817e-02,  1.18145793e-01,\n",
              "         2.04363144e-01,  1.63043277e-01, -6.66935966e-03, -6.61963524e-02,\n",
              "         4.23834169e-01,  5.07116288e-02, -1.50518063e-01, -1.08461770e-01,\n",
              "         1.12147154e-01,  1.77160148e-01,  3.39846594e-02, -2.28999601e-01,\n",
              "         3.28935480e-01,  3.25221272e-01, -3.47899026e-01,  2.28119267e-01,\n",
              "         1.73742895e-01,  5.58430969e-02,  2.79523722e-01,  3.59148952e-01,\n",
              "        -6.81568029e-02, -2.10583165e-01,  1.79323016e-01,  2.63012073e-01,\n",
              "         1.66498758e-01,  1.28475343e-01, -1.40671415e-01,  7.35510959e-04,\n",
              "         2.92047928e-01,  1.06124268e-01,  1.11915744e-01,  2.84083887e-01,\n",
              "         3.66472837e-01, -7.85838918e-02, -1.84795443e-01, -1.89386808e-01,\n",
              "         1.48754197e-01, -3.18792511e-01, -9.42654198e-02, -6.39675845e-02,\n",
              "        -4.72961870e-03,  2.40009255e-01, -2.27740831e-01, -3.29310727e-01,\n",
              "         2.33379625e-01, -1.74896047e-01, -3.17779951e-01, -2.91459772e-04,\n",
              "         2.12188890e-01, -2.92153609e-01,  2.27067999e-01, -3.27021486e-01]),\n",
              " array([-0.00332214,  0.0111032 ,  0.28883128,  0.0124345 ,  0.30041301,\n",
              "         0.2933143 ,  0.34500393,  0.38325782, -0.11974322, -0.04923824,\n",
              "        -0.03412397,  0.007532  , -0.18761522,  0.02018346,  0.07274728,\n",
              "         0.06130389, -0.09074663, -0.04112918, -0.25964289, -0.20230952,\n",
              "         0.07063998,  0.07645103,  0.04944965, -0.25863342,  0.04960625,\n",
              "        -0.08701772, -0.04628315, -0.04465934,  0.04225188, -0.05449032,\n",
              "        -0.06858009])]"
            ]
          },
          "metadata": {},
          "execution_count": 42
        }
      ]
    },
    {
      "cell_type": "code",
      "source": [
        "neu_num =[]\n",
        "neu_score = []\n",
        "for i in range(10,151,10):\n",
        "  mlp = MLPClassifier(hidden_layer_sizes=(i,),random_state=42)\n",
        "  mlp.fit(X_train,Y_train)\n",
        "  neu_score.append(mlp.score(X_test,Y_test))\n",
        "  neu_num.append(i)\n",
        "\n",
        "\n",
        "plt.figure(figsize=(6,5))\n",
        "plt.plot(neu_num,neu_score)\n",
        "plt.xlabel('Number of Neurons in Hidden Layer')\n",
        "plt.ylabel('Accuracy')\n",
        "plt.show()"
      ],
      "metadata": {
        "colab": {
          "base_uri": "https://localhost:8080/",
          "height": 1000
        },
        "id": "IHrg2v7m9gld",
        "outputId": "e62c89d8-0cac-4d14-a7ba-0071da890766"
      },
      "execution_count": null,
      "outputs": [
        {
          "output_type": "stream",
          "name": "stderr",
          "text": [
            "/usr/local/lib/python3.7/dist-packages/sklearn/neural_network/_multilayer_perceptron.py:1109: DataConversionWarning: A column-vector y was passed when a 1d array was expected. Please change the shape of y to (n_samples, ), for example using ravel().\n",
            "  y = column_or_1d(y, warn=True)\n",
            "/usr/local/lib/python3.7/dist-packages/sklearn/neural_network/_multilayer_perceptron.py:696: ConvergenceWarning: Stochastic Optimizer: Maximum iterations (200) reached and the optimization hasn't converged yet.\n",
            "  ConvergenceWarning,\n",
            "/usr/local/lib/python3.7/dist-packages/sklearn/neural_network/_multilayer_perceptron.py:1109: DataConversionWarning: A column-vector y was passed when a 1d array was expected. Please change the shape of y to (n_samples, ), for example using ravel().\n",
            "  y = column_or_1d(y, warn=True)\n",
            "/usr/local/lib/python3.7/dist-packages/sklearn/neural_network/_multilayer_perceptron.py:696: ConvergenceWarning: Stochastic Optimizer: Maximum iterations (200) reached and the optimization hasn't converged yet.\n",
            "  ConvergenceWarning,\n",
            "/usr/local/lib/python3.7/dist-packages/sklearn/neural_network/_multilayer_perceptron.py:1109: DataConversionWarning: A column-vector y was passed when a 1d array was expected. Please change the shape of y to (n_samples, ), for example using ravel().\n",
            "  y = column_or_1d(y, warn=True)\n",
            "/usr/local/lib/python3.7/dist-packages/sklearn/neural_network/_multilayer_perceptron.py:696: ConvergenceWarning: Stochastic Optimizer: Maximum iterations (200) reached and the optimization hasn't converged yet.\n",
            "  ConvergenceWarning,\n",
            "/usr/local/lib/python3.7/dist-packages/sklearn/neural_network/_multilayer_perceptron.py:1109: DataConversionWarning: A column-vector y was passed when a 1d array was expected. Please change the shape of y to (n_samples, ), for example using ravel().\n",
            "  y = column_or_1d(y, warn=True)\n",
            "/usr/local/lib/python3.7/dist-packages/sklearn/neural_network/_multilayer_perceptron.py:696: ConvergenceWarning: Stochastic Optimizer: Maximum iterations (200) reached and the optimization hasn't converged yet.\n",
            "  ConvergenceWarning,\n",
            "/usr/local/lib/python3.7/dist-packages/sklearn/neural_network/_multilayer_perceptron.py:1109: DataConversionWarning: A column-vector y was passed when a 1d array was expected. Please change the shape of y to (n_samples, ), for example using ravel().\n",
            "  y = column_or_1d(y, warn=True)\n",
            "/usr/local/lib/python3.7/dist-packages/sklearn/neural_network/_multilayer_perceptron.py:696: ConvergenceWarning: Stochastic Optimizer: Maximum iterations (200) reached and the optimization hasn't converged yet.\n",
            "  ConvergenceWarning,\n",
            "/usr/local/lib/python3.7/dist-packages/sklearn/neural_network/_multilayer_perceptron.py:1109: DataConversionWarning: A column-vector y was passed when a 1d array was expected. Please change the shape of y to (n_samples, ), for example using ravel().\n",
            "  y = column_or_1d(y, warn=True)\n",
            "/usr/local/lib/python3.7/dist-packages/sklearn/neural_network/_multilayer_perceptron.py:696: ConvergenceWarning: Stochastic Optimizer: Maximum iterations (200) reached and the optimization hasn't converged yet.\n",
            "  ConvergenceWarning,\n",
            "/usr/local/lib/python3.7/dist-packages/sklearn/neural_network/_multilayer_perceptron.py:1109: DataConversionWarning: A column-vector y was passed when a 1d array was expected. Please change the shape of y to (n_samples, ), for example using ravel().\n",
            "  y = column_or_1d(y, warn=True)\n",
            "/usr/local/lib/python3.7/dist-packages/sklearn/neural_network/_multilayer_perceptron.py:696: ConvergenceWarning: Stochastic Optimizer: Maximum iterations (200) reached and the optimization hasn't converged yet.\n",
            "  ConvergenceWarning,\n",
            "/usr/local/lib/python3.7/dist-packages/sklearn/neural_network/_multilayer_perceptron.py:1109: DataConversionWarning: A column-vector y was passed when a 1d array was expected. Please change the shape of y to (n_samples, ), for example using ravel().\n",
            "  y = column_or_1d(y, warn=True)\n",
            "/usr/local/lib/python3.7/dist-packages/sklearn/neural_network/_multilayer_perceptron.py:696: ConvergenceWarning: Stochastic Optimizer: Maximum iterations (200) reached and the optimization hasn't converged yet.\n",
            "  ConvergenceWarning,\n",
            "/usr/local/lib/python3.7/dist-packages/sklearn/neural_network/_multilayer_perceptron.py:1109: DataConversionWarning: A column-vector y was passed when a 1d array was expected. Please change the shape of y to (n_samples, ), for example using ravel().\n",
            "  y = column_or_1d(y, warn=True)\n",
            "/usr/local/lib/python3.7/dist-packages/sklearn/neural_network/_multilayer_perceptron.py:696: ConvergenceWarning: Stochastic Optimizer: Maximum iterations (200) reached and the optimization hasn't converged yet.\n",
            "  ConvergenceWarning,\n",
            "/usr/local/lib/python3.7/dist-packages/sklearn/neural_network/_multilayer_perceptron.py:1109: DataConversionWarning: A column-vector y was passed when a 1d array was expected. Please change the shape of y to (n_samples, ), for example using ravel().\n",
            "  y = column_or_1d(y, warn=True)\n",
            "/usr/local/lib/python3.7/dist-packages/sklearn/neural_network/_multilayer_perceptron.py:696: ConvergenceWarning: Stochastic Optimizer: Maximum iterations (200) reached and the optimization hasn't converged yet.\n",
            "  ConvergenceWarning,\n",
            "/usr/local/lib/python3.7/dist-packages/sklearn/neural_network/_multilayer_perceptron.py:1109: DataConversionWarning: A column-vector y was passed when a 1d array was expected. Please change the shape of y to (n_samples, ), for example using ravel().\n",
            "  y = column_or_1d(y, warn=True)\n",
            "/usr/local/lib/python3.7/dist-packages/sklearn/neural_network/_multilayer_perceptron.py:696: ConvergenceWarning: Stochastic Optimizer: Maximum iterations (200) reached and the optimization hasn't converged yet.\n",
            "  ConvergenceWarning,\n",
            "/usr/local/lib/python3.7/dist-packages/sklearn/neural_network/_multilayer_perceptron.py:1109: DataConversionWarning: A column-vector y was passed when a 1d array was expected. Please change the shape of y to (n_samples, ), for example using ravel().\n",
            "  y = column_or_1d(y, warn=True)\n",
            "/usr/local/lib/python3.7/dist-packages/sklearn/neural_network/_multilayer_perceptron.py:696: ConvergenceWarning: Stochastic Optimizer: Maximum iterations (200) reached and the optimization hasn't converged yet.\n",
            "  ConvergenceWarning,\n",
            "/usr/local/lib/python3.7/dist-packages/sklearn/neural_network/_multilayer_perceptron.py:1109: DataConversionWarning: A column-vector y was passed when a 1d array was expected. Please change the shape of y to (n_samples, ), for example using ravel().\n",
            "  y = column_or_1d(y, warn=True)\n",
            "/usr/local/lib/python3.7/dist-packages/sklearn/neural_network/_multilayer_perceptron.py:696: ConvergenceWarning: Stochastic Optimizer: Maximum iterations (200) reached and the optimization hasn't converged yet.\n",
            "  ConvergenceWarning,\n",
            "/usr/local/lib/python3.7/dist-packages/sklearn/neural_network/_multilayer_perceptron.py:1109: DataConversionWarning: A column-vector y was passed when a 1d array was expected. Please change the shape of y to (n_samples, ), for example using ravel().\n",
            "  y = column_or_1d(y, warn=True)\n",
            "/usr/local/lib/python3.7/dist-packages/sklearn/neural_network/_multilayer_perceptron.py:696: ConvergenceWarning: Stochastic Optimizer: Maximum iterations (200) reached and the optimization hasn't converged yet.\n",
            "  ConvergenceWarning,\n",
            "/usr/local/lib/python3.7/dist-packages/sklearn/neural_network/_multilayer_perceptron.py:1109: DataConversionWarning: A column-vector y was passed when a 1d array was expected. Please change the shape of y to (n_samples, ), for example using ravel().\n",
            "  y = column_or_1d(y, warn=True)\n",
            "/usr/local/lib/python3.7/dist-packages/sklearn/neural_network/_multilayer_perceptron.py:696: ConvergenceWarning: Stochastic Optimizer: Maximum iterations (200) reached and the optimization hasn't converged yet.\n",
            "  ConvergenceWarning,\n"
          ]
        },
        {
          "output_type": "display_data",
          "data": {
            "text/plain": [
              "<Figure size 432x360 with 1 Axes>"
            ],
            "image/png": "[encoded data removed]"
          },
          "metadata": {}
        }
      ]
    },
    {
      "cell_type": "code",
      "source": [
        "print(\"Weight of All Neural Connections:\\n\")\n",
        "mlp.coefs_"
      ],
      "metadata": {
        "colab": {
          "base_uri": "https://localhost:8080/"
        },
        "id": "WhCQIiIL9g6j",
        "outputId": "50b87fac-67fa-48a1-f979-bf5045a4f141"
      },
      "execution_count": null,
      "outputs": [
        {
          "output_type": "stream",
          "name": "stdout",
          "text": [
            "Weight of All Neural Connections:\n",
            "\n"
          ]
        },
        {
          "output_type": "execute_result",
          "data": {
            "text/plain": [
              "[array([[-3.19666231e-02,  2.62036477e-01,  3.98786252e-03,\n",
              "          5.30122030e-02, -1.81350050e-01, -6.18784362e-02,\n",
              "         -1.61915220e-01,  1.23489577e-01,  1.18820918e-02,\n",
              "          5.98570336e-02, -5.23975967e-02,  1.51576089e-01,\n",
              "          1.21519424e-01, -1.78508201e-01, -1.56813654e-05,\n",
              "         -1.89762227e-01, -1.55243878e-03, -4.18972970e-07,\n",
              "         -3.05967786e-06, -8.49271038e-02,  1.32861163e-02,\n",
              "         -2.55862957e-04, -9.16631270e-02, -4.22090114e-05,\n",
              "         -1.92039475e-02,  2.96570651e-01, -1.38419651e-01,\n",
              "         -2.79739602e-03,  8.13983264e-02, -4.54095895e-02,\n",
              "         -1.51563703e-05, -5.36650587e-02, -2.03860841e-01,\n",
              "          2.10274137e-01,  2.97300636e-01,  1.50898887e-01,\n",
              "         -6.34653039e-02, -2.25178927e-01,  8.84263543e-02,\n",
              "         -2.34393486e-06, -2.70212957e-02, -1.03879550e-02,\n",
              "         -1.93850182e-01,  1.22175514e-01, -4.82642434e-03,\n",
              "          1.05767504e-01, -4.09617154e-02,  4.53078791e-02,\n",
              "          3.57468263e-02, -9.15941563e-02,  1.84730886e-01,\n",
              "          1.30961660e-01,  2.20475429e-01,  1.37915615e-01,\n",
              "          3.84638605e-03,  1.48176219e-01, -3.47671553e-02,\n",
              "         -8.70533460e-02, -8.73231400e-02, -1.42929666e-02,\n",
              "         -6.24238138e-02, -9.93247896e-02,  1.20306758e-01,\n",
              "         -1.29169546e-02, -8.76790281e-02, -5.78234862e-07,\n",
              "         -1.30193490e-01,  8.64136531e-02, -1.87006340e-01,\n",
              "          1.63745960e-01,  1.01875815e-01, -2.22133757e-01,\n",
              "         -5.66023525e-02,  2.01208508e-01,  2.15670525e-03,\n",
              "          3.73571767e-03,  1.14277161e-01, -3.83158633e-02,\n",
              "         -3.74213827e-02, -1.36646599e-01,  1.22458776e-01,\n",
              "          8.07088615e-02, -5.47032715e-02, -1.53834117e-01,\n",
              "         -2.44128319e-02, -2.55286444e-02,  3.78553053e-03,\n",
              "          6.76104307e-05,  1.81244866e-01,  4.08043186e-02,\n",
              "         -2.01777855e-01,  8.12430827e-02,  5.85885291e-02,\n",
              "          1.47341385e-02,  8.14233581e-03,  3.11371752e-03,\n",
              "          4.65905480e-02, -4.76911337e-02, -1.54059425e-01,\n",
              "         -1.71904245e-01, -4.94305042e-02,  1.15718647e-01,\n",
              "         -9.19955109e-02,  1.06115610e-01,  2.32753435e-01,\n",
              "         -1.50961973e-01, -7.67190323e-03,  6.01530227e-02,\n",
              "         -1.09952955e-01, -3.75852500e-02, -6.96104086e-02,\n",
              "         -1.70646255e-01,  2.70898512e-01,  1.16665722e-01,\n",
              "          5.07165818e-02,  1.57120885e-01,  8.03139760e-02,\n",
              "         -1.59210967e-01,  2.25771189e-01,  1.64983759e-01,\n",
              "          1.28930457e-01,  1.73911394e-01, -7.51099567e-02,\n",
              "         -1.41055699e-01, -1.13693822e-01, -3.49083565e-02,\n",
              "          1.49242084e-01,  1.10574783e-01, -2.32196345e-01,\n",
              "         -1.21698360e-02, -7.75480840e-02, -7.45316492e-03,\n",
              "         -5.82934847e-02, -4.05664143e-04,  1.37717225e-01,\n",
              "          4.34891165e-02, -2.35084780e-08,  8.13318514e-02,\n",
              "          2.43129939e-02,  2.02616997e-01,  4.77785503e-02,\n",
              "         -6.48367319e-02,  5.43054119e-02, -1.72286272e-03,\n",
              "         -4.44594366e-02, -2.20586513e-01,  4.29005672e-02,\n",
              "          2.47220463e-02, -2.45943271e-01, -3.13250030e-03],\n",
              "        [ 1.62887134e-01, -1.19393728e-01, -2.21844728e-02,\n",
              "         -1.89482386e-02,  1.82176219e-01,  7.51397576e-03,\n",
              "          8.71538140e-02,  8.43504785e-02, -1.32494854e-01,\n",
              "          8.86630753e-02, -3.44360590e-05,  4.44162511e-02,\n",
              "          3.95251856e-02,  4.06202412e-02, -6.15357339e-03,\n",
              "          1.16622844e-01, -8.67147485e-04, -1.44357606e-02,\n",
              "         -4.69162374e-02,  4.37844540e-02,  7.59241954e-02,\n",
              "         -3.26047282e-02, -5.99281923e-03, -8.46777344e-03,\n",
              "          5.57999079e-02, -8.02023070e-02,  9.39355563e-02,\n",
              "         -5.33232044e-02,  1.64586044e-01, -2.37029301e-02,\n",
              "         -3.36825861e-04, -7.08325908e-02,  1.57738022e-01,\n",
              "          1.53097571e-01, -8.08556660e-02,  5.45389322e-02,\n",
              "          1.17912249e-01,  4.64235504e-02, -7.25262354e-04,\n",
              "         -6.59954825e-03, -3.36605071e-02,  1.68988233e-01,\n",
              "          1.65509712e-01,  3.46574209e-02, -3.76472541e-04,\n",
              "         -5.09579202e-02,  1.01843401e-01,  1.43947656e-01,\n",
              "          1.35157520e-01,  1.09249180e-01,  5.26312148e-02,\n",
              "         -2.15001354e-01, -1.15234424e-01,  1.57028306e-01,\n",
              "          3.36719115e-02, -2.14225560e-01, -3.16848680e-02,\n",
              "          7.18154629e-02, -1.00176719e-01, -4.00887908e-02,\n",
              "          4.14321776e-02,  8.16619759e-02,  5.60576182e-02,\n",
              "         -2.85070117e-02,  7.05272067e-02, -7.13388231e-03,\n",
              "          8.92147786e-02,  1.01786433e-01,  5.03473140e-02,\n",
              "          1.29126664e-01,  5.36603668e-02,  7.46326946e-02,\n",
              "         -3.35240993e-02, -6.90004478e-02, -4.23314261e-03,\n",
              "         -6.35898933e-03,  1.89619350e-01,  1.50594179e-05,\n",
              "          1.37986088e-01,  1.00451528e-01,  1.05376452e-01,\n",
              "          2.87216539e-03,  4.40581311e-02, -7.40111983e-03,\n",
              "         -5.68388973e-03,  7.53535821e-02, -2.97583742e-03,\n",
              "         -5.13708087e-02,  6.14713957e-02, -4.78181047e-02,\n",
              "          1.79199530e-01,  1.64764129e-01,  1.49998941e-01,\n",
              "         -7.44860259e-03, -5.38184189e-02,  1.84719325e-01,\n",
              "         -2.55099827e-02,  1.87937068e-01,  1.60805204e-01,\n",
              "          1.57843707e-01, -2.07928380e-03, -4.17779841e-02,\n",
              "          1.27582904e-01, -8.14389781e-02, -1.59424181e-01,\n",
              "          3.35277341e-02,  1.58471515e-01,  6.47093891e-02,\n",
              "          4.17695828e-02, -3.26933909e-02,  5.34152392e-02,\n",
              "          1.81736143e-01, -1.13747546e-01,  4.54967401e-03,\n",
              "          1.29834962e-01,  1.13422379e-01,  7.13101035e-02,\n",
              "          8.23622994e-02, -4.79880203e-02, -8.05924053e-02,\n",
              "          1.15518967e-01,  1.09703018e-01,  1.31380907e-01,\n",
              "          1.77097292e-01, -1.12266308e-03, -5.40282611e-03,\n",
              "          1.33756402e-01,  4.13596287e-02,  8.67955575e-02,\n",
              "          1.31252646e-01,  1.61746962e-01,  1.13337989e-04,\n",
              "         -1.26780205e-02, -3.34509286e-02,  1.81848406e-02,\n",
              "         -2.64660376e-02,  9.26570818e-07,  1.83711851e-02,\n",
              "         -3.76972835e-02,  5.32778584e-02, -4.96826055e-02,\n",
              "         -1.42711834e-01,  1.05457994e-01, -8.50464439e-05,\n",
              "         -9.74247157e-02,  3.92859636e-02,  1.04929448e-01,\n",
              "         -3.96499525e-02,  6.64518069e-02, -3.55293602e-02]]),\n",
              " array([[-6.84208082e-02, -8.46566338e-02, -8.47514415e-02, ...,\n",
              "          2.01193864e-01,  9.26016497e-03,  5.90424215e-02],\n",
              "        [-1.08631529e-01, -2.19095069e-01, -3.87365196e-02, ...,\n",
              "          2.92373287e-02, -1.48010320e-02,  8.37227933e-02],\n",
              "        [ 3.12242204e-02,  1.83464693e-02, -3.60431465e-02, ...,\n",
              "          3.58796420e-02, -1.04000556e-05, -5.56948615e-03],\n",
              "        ...,\n",
              "        [ 3.72103209e-01,  1.14922667e-01, -5.31226716e-02, ...,\n",
              "         -3.04554734e-01, -2.35989246e-01, -1.28260185e-01],\n",
              "        [-1.61113343e-01, -5.27986441e-02, -5.89927523e-02, ...,\n",
              "         -2.48190765e-01,  7.02744418e-03,  1.14634258e-01],\n",
              "        [-4.37419866e-02,  2.06198612e-07,  3.07219924e-03, ...,\n",
              "         -2.86813060e-03, -2.81369302e-06, -3.72366037e-02]])]"
            ]
          },
          "metadata": {},
          "execution_count": 44
        }
      ]
    },
    {
      "cell_type": "code",
      "source": [
        "mlp.intercepts_"
      ],
      "metadata": {
        "colab": {
          "base_uri": "https://localhost:8080/"
        },
        "id": "Top05HEy9g8V",
        "outputId": "d1ad6fcf-1ce8-40bf-9f47-f914ebb4d81f"
      },
      "execution_count": null,
      "outputs": [
        {
          "output_type": "execute_result",
          "data": {
            "text/plain": [
              "[array([-0.25816355, -0.07742623,  0.01614676,  0.21191351,  0.27206489,\n",
              "         0.48656809,  0.21244024, -0.19374661,  0.08900274, -0.22121187,\n",
              "        -0.0242503 , -0.21764535, -0.16130433,  0.40158401,  0.35585945,\n",
              "         0.19740882, -0.03617843, -0.12981967, -0.13651808, -0.04687466,\n",
              "        -0.0924745 ,  0.11170036,  0.05562515, -0.0874454 ,  0.35022596,\n",
              "         0.33243447,  0.20189768,  0.03593264, -0.19385944, -0.10024154,\n",
              "        -0.05723065,  0.09099162, -0.34089706, -0.04318113, -0.23654218,\n",
              "        -0.33645631,  0.06046775,  0.28193199,  0.07228924, -0.1598045 ,\n",
              "        -0.00333151,  0.13364366, -0.21345164,  0.03621722, -0.04033013,\n",
              "         0.31224125,  0.15082682, -0.35628717, -0.16475687, -0.00065338,\n",
              "        -0.11491118,  0.38863786,  0.31681155, -0.15264506, -0.26816141,\n",
              "         0.03723831, -0.18814533,  0.05904241,  0.16347532,  0.01773351,\n",
              "         0.13256398,  0.16857977,  0.11641502,  0.00585442,  0.09185729,\n",
              "        -0.04525822,  0.46247169,  0.33402212, -0.04158036, -0.06415853,\n",
              "        -0.05809672, -0.13030558, -0.16115203,  0.24254385, -0.17039235,\n",
              "        -0.07193179,  0.08044053, -0.18943252,  0.17649129, -0.27773472,\n",
              "        -0.27920935,  0.19999021,  0.27028787,  0.14355155,  0.34642978,\n",
              "         0.23937033, -0.08661068, -0.12817253, -0.04231683,  0.40406378,\n",
              "         0.29674563, -0.10982593, -0.20794959,  0.37501592, -0.06325826,\n",
              "         0.30181332,  0.39008582,  0.05536735,  0.14398835,  0.07021698,\n",
              "        -0.15770258,  0.37588548, -0.02694768,  0.37968784,  0.01309744,\n",
              "         0.37261883,  0.07431516, -0.25398092,  0.3514718 , -0.16240621,\n",
              "        -0.26458299,  0.19799947,  0.35299065, -0.07919011,  0.15114615,\n",
              "        -0.10133568, -0.21580196, -0.0878689 ,  0.17968734,  0.34796983,\n",
              "         0.25076354, -0.01220194, -0.26288899, -0.00263115, -0.18144369,\n",
              "         0.01367648, -0.13560444,  0.03591447, -0.11509422, -0.09572567,\n",
              "        -0.1113346 ,  0.38069377,  0.03479457, -0.15849778, -0.24566484,\n",
              "         0.21938291, -0.16976677,  0.1614685 ,  0.35240002, -0.03232114,\n",
              "        -0.16496876,  0.18517898, -0.17039865, -0.0514016 ,  0.11513392,\n",
              "         0.40074249,  0.06182195,  0.37660303, -0.08561833, -0.16550003]),\n",
              " array([ 0.14247616,  0.19104101,  0.21074639,  0.09982136, -0.03127028,\n",
              "         0.00804094,  0.12991048,  0.0430518 ,  0.05879719,  0.28743723,\n",
              "         0.17830465,  0.29286044,  0.11607219,  0.10456406,  0.01992837,\n",
              "         0.11650048, -0.04631612, -0.08111381, -0.01067424, -0.10390326,\n",
              "        -0.08145716,  0.16073769, -0.26649393, -0.08820059,  0.04563906,\n",
              "        -0.08023453, -0.09855665, -0.16993266, -0.16313811,  0.03540662,\n",
              "        -0.10358067])]"
            ]
          },
          "metadata": {},
          "execution_count": 45
        }
      ]
    },
    {
      "cell_type": "code",
      "source": [
        "max(neu_score)"
      ],
      "metadata": {
        "colab": {
          "base_uri": "https://localhost:8080/"
        },
        "id": "RmVx915S9g_v",
        "outputId": "d58ba8ce-48e0-4ed6-9071-416de61cf112"
      },
      "execution_count": null,
      "outputs": [
        {
          "output_type": "execute_result",
          "data": {
            "text/plain": [
              "0.1"
            ]
          },
          "metadata": {},
          "execution_count": 46
        }
      ]
    },
    {
      "cell_type": "code",
      "source": [
        "neu_num[13]"
      ],
      "metadata": {
        "colab": {
          "base_uri": "https://localhost:8080/"
        },
        "id": "-CF851T39hBX",
        "outputId": "c34d38c6-aa11-4ef0-95d5-0c3e9cd7a7c8"
      },
      "execution_count": null,
      "outputs": [
        {
          "output_type": "execute_result",
          "data": {
            "text/plain": [
              "140"
            ]
          },
          "metadata": {},
          "execution_count": 47
        }
      ]
    },
    {
      "cell_type": "code",
      "source": [
        "neu_score[13]"
      ],
      "metadata": {
        "colab": {
          "base_uri": "https://localhost:8080/"
        },
        "id": "BVSYwAjB9hFP",
        "outputId": "655871f7-fce3-4e46-8ee7-e1b058699a1d"
      },
      "execution_count": null,
      "outputs": [
        {
          "output_type": "execute_result",
          "data": {
            "text/plain": [
              "0.1"
            ]
          },
          "metadata": {},
          "execution_count": 48
        }
      ]
    },
    {
      "cell_type": "code",
      "source": [
        "func = ['identity','logistic','tanh','relu']\n",
        "ac_score=[]\n",
        "for i in func:\n",
        "  mlp = MLPClassifier(hidden_layer_sizes=(140,),activation=i,random_state=42)\n",
        "  mlp.fit(X_train,Y_train)\n",
        "  ac_score.append(mlp.score(X_test,Y_test))\n",
        "\n",
        "plt.figure(figsize=(6,5))\n",
        "plt.bar(func,ac_score)\n",
        "plt.xlabel('Activation Function')\n",
        "plt.ylabel('Accuracy')\n",
        "plt.show()"
      ],
      "metadata": {
        "colab": {
          "base_uri": "https://localhost:8080/",
          "height": 637
        },
        "id": "iCPcF5_hCFve",
        "outputId": "cde84916-e2f0-43a1-8d47-566df920e66a"
      },
      "execution_count": null,
      "outputs": [
        {
          "output_type": "stream",
          "name": "stderr",
          "text": [
            "/usr/local/lib/python3.7/dist-packages/sklearn/neural_network/_multilayer_perceptron.py:1109: DataConversionWarning: A column-vector y was passed when a 1d array was expected. Please change the shape of y to (n_samples, ), for example using ravel().\n",
            "  y = column_or_1d(y, warn=True)\n",
            "/usr/local/lib/python3.7/dist-packages/sklearn/neural_network/_multilayer_perceptron.py:696: ConvergenceWarning: Stochastic Optimizer: Maximum iterations (200) reached and the optimization hasn't converged yet.\n",
            "  ConvergenceWarning,\n",
            "/usr/local/lib/python3.7/dist-packages/sklearn/neural_network/_multilayer_perceptron.py:1109: DataConversionWarning: A column-vector y was passed when a 1d array was expected. Please change the shape of y to (n_samples, ), for example using ravel().\n",
            "  y = column_or_1d(y, warn=True)\n",
            "/usr/local/lib/python3.7/dist-packages/sklearn/neural_network/_multilayer_perceptron.py:696: ConvergenceWarning: Stochastic Optimizer: Maximum iterations (200) reached and the optimization hasn't converged yet.\n",
            "  ConvergenceWarning,\n",
            "/usr/local/lib/python3.7/dist-packages/sklearn/neural_network/_multilayer_perceptron.py:1109: DataConversionWarning: A column-vector y was passed when a 1d array was expected. Please change the shape of y to (n_samples, ), for example using ravel().\n",
            "  y = column_or_1d(y, warn=True)\n",
            "/usr/local/lib/python3.7/dist-packages/sklearn/neural_network/_multilayer_perceptron.py:696: ConvergenceWarning: Stochastic Optimizer: Maximum iterations (200) reached and the optimization hasn't converged yet.\n",
            "  ConvergenceWarning,\n",
            "/usr/local/lib/python3.7/dist-packages/sklearn/neural_network/_multilayer_perceptron.py:1109: DataConversionWarning: A column-vector y was passed when a 1d array was expected. Please change the shape of y to (n_samples, ), for example using ravel().\n",
            "  y = column_or_1d(y, warn=True)\n",
            "/usr/local/lib/python3.7/dist-packages/sklearn/neural_network/_multilayer_perceptron.py:696: ConvergenceWarning: Stochastic Optimizer: Maximum iterations (200) reached and the optimization hasn't converged yet.\n",
            "  ConvergenceWarning,\n"
          ]
        },
        {
          "output_type": "display_data",
          "data": {
            "text/plain": [
              "<Figure size 432x360 with 1 Axes>"
            ],
            "image/png": "[encoded data removed]"
          },
          "metadata": {}
        }
      ]
    },
    {
      "cell_type": "code",
      "source": [
        "print(\"Weight of All Neural Connections:\\n\")\n",
        "mlp.coefs_\n",
        "mlp.intercepts_"
      ],
      "metadata": {
        "colab": {
          "base_uri": "https://localhost:8080/"
        },
        "id": "C7ZBI7K9CFlj",
        "outputId": "debcfab9-7371-4033-d841-a18935686885"
      },
      "execution_count": null,
      "outputs": [
        {
          "output_type": "stream",
          "name": "stdout",
          "text": [
            "Weight of All Neural Connections:\n",
            "\n"
          ]
        },
        {
          "output_type": "execute_result",
          "data": {
            "text/plain": [
              "[array([ 0.21944352, -0.10082679, -0.19078805, -0.16691939,  0.05786619,\n",
              "        -0.19078027,  0.05726666, -0.04488237, -0.08775571,  0.27383011,\n",
              "        -0.24178219, -0.3225508 ,  0.40253172, -0.05747748, -0.18200437,\n",
              "         0.0091445 ,  0.31060007, -0.00929102,  0.04103298, -0.05297517,\n",
              "        -0.18430957,  0.11894783,  0.20832213,  0.28980616,  0.08283869,\n",
              "         0.3438485 ,  0.00670129, -0.07278494,  0.11229633, -0.15250264,\n",
              "         0.07095322, -0.17330216, -0.20322227,  0.41369861,  0.26407189,\n",
              "         0.35213604, -0.18081986, -0.13431303, -0.23332271, -0.10267845,\n",
              "         0.02023773,  0.33556001,  0.21283353, -0.15988874,  0.4748391 ,\n",
              "         0.14130425, -0.0201041 ,  0.10954193, -0.08296384, -0.10371113,\n",
              "         0.15178017,  0.09790897, -0.31683957, -0.30411905, -0.18664432,\n",
              "        -0.06409817,  0.13266511,  0.0787369 , -0.07742013, -0.25642747,\n",
              "        -0.09970946, -0.01090611, -0.13435103,  0.13829098, -0.21724001,\n",
              "         0.04762751,  0.05553879, -0.07635775, -0.05154841, -0.05756718,\n",
              "         0.02047876,  0.28550919,  0.06257787, -0.14701499, -0.13820096,\n",
              "         0.30882795, -0.32516854, -0.08514201,  0.29930816,  0.2097327 ,\n",
              "        -0.20508041,  0.01508061, -0.01716279,  0.01875367,  0.17113115,\n",
              "        -0.04682471,  0.08182134,  0.35596274, -0.24572415, -0.34715441,\n",
              "        -0.29593201, -0.14381922, -0.14732888,  0.05126286, -0.17629002,\n",
              "        -0.20210382,  0.41065011, -0.19598921,  0.34287991, -0.08968239,\n",
              "        -0.18942197, -0.04926858,  0.0911161 ,  0.41526036,  0.37852199,\n",
              "         0.00885227, -0.08960847, -0.04331981,  0.26425406,  0.34185935,\n",
              "         0.18165635, -0.03592403, -0.10837177,  0.31885984, -0.06544777,\n",
              "         0.35423164,  0.30295123,  0.13931904,  0.04853932,  0.35816875,\n",
              "        -0.20879569,  0.31027627,  0.00215932,  0.36554547, -0.17358687,\n",
              "         0.10137446, -0.19639426, -0.3570257 ,  0.15796638, -0.16802745,\n",
              "         0.02031294,  0.28741961,  0.34565569, -0.04505686,  0.06907742,\n",
              "        -0.02119473, -0.13649349, -0.13379241, -0.01244686, -0.05101271]),\n",
              " array([ 0.16343226,  0.36918226,  0.27950484,  0.07903614,  0.04324024,\n",
              "         0.32774814,  0.3272657 ,  0.02506133,  0.05882992,  0.06646875,\n",
              "        -0.19457207,  0.11156337, -0.02166154,  0.18428602, -0.04218266,\n",
              "         0.17841245, -0.21586381, -0.1817987 , -0.25795995, -0.1167393 ,\n",
              "        -0.18583445, -0.12748369, -0.01850735, -0.16036194, -0.10126246,\n",
              "        -0.16943856,  0.03465385,  0.0458965 , -0.10272944, -0.18123498,\n",
              "        -0.2603898 ])]"
            ]
          },
          "metadata": {},
          "execution_count": 50
        }
      ]
    },
    {
      "cell_type": "code",
      "source": [
        "lay2_num =[]\n",
        "lay2_score=[]\n",
        "for i in range(10,101,10):\n",
        "  mlp = MLPClassifier(hidden_layer_sizes=(140,i),activation='relu',random_state=42)\n",
        "  mlp.fit(X_train,Y_train)\n",
        "  lay2_score.append(mlp.score(X_test,Y_test))\n",
        "  lay2_num.append(i)\n",
        "\n",
        "plt.figure(figsize=(6,5))\n",
        "plt.plot(lay2_num,lay2_score)\n",
        "plt.xlabel('Number of Neurons in 2 Hidden Layer(relu)')\n",
        "plt.ylabel('Accuracy')\n",
        "plt.show()"
      ],
      "metadata": {
        "colab": {
          "base_uri": "https://localhost:8080/",
          "height": 1000
        },
        "id": "iszhVCwzCFj_",
        "outputId": "0b729e89-5bcd-424d-813e-2fecb8c9ec39"
      },
      "execution_count": null,
      "outputs": [
        {
          "output_type": "stream",
          "name": "stderr",
          "text": [
            "/usr/local/lib/python3.7/dist-packages/sklearn/neural_network/_multilayer_perceptron.py:1109: DataConversionWarning: A column-vector y was passed when a 1d array was expected. Please change the shape of y to (n_samples, ), for example using ravel().\n",
            "  y = column_or_1d(y, warn=True)\n",
            "/usr/local/lib/python3.7/dist-packages/sklearn/neural_network/_multilayer_perceptron.py:696: ConvergenceWarning: Stochastic Optimizer: Maximum iterations (200) reached and the optimization hasn't converged yet.\n",
            "  ConvergenceWarning,\n",
            "/usr/local/lib/python3.7/dist-packages/sklearn/neural_network/_multilayer_perceptron.py:1109: DataConversionWarning: A column-vector y was passed when a 1d array was expected. Please change the shape of y to (n_samples, ), for example using ravel().\n",
            "  y = column_or_1d(y, warn=True)\n",
            "/usr/local/lib/python3.7/dist-packages/sklearn/neural_network/_multilayer_perceptron.py:696: ConvergenceWarning: Stochastic Optimizer: Maximum iterations (200) reached and the optimization hasn't converged yet.\n",
            "  ConvergenceWarning,\n",
            "/usr/local/lib/python3.7/dist-packages/sklearn/neural_network/_multilayer_perceptron.py:1109: DataConversionWarning: A column-vector y was passed when a 1d array was expected. Please change the shape of y to (n_samples, ), for example using ravel().\n",
            "  y = column_or_1d(y, warn=True)\n",
            "/usr/local/lib/python3.7/dist-packages/sklearn/neural_network/_multilayer_perceptron.py:696: ConvergenceWarning: Stochastic Optimizer: Maximum iterations (200) reached and the optimization hasn't converged yet.\n",
            "  ConvergenceWarning,\n",
            "/usr/local/lib/python3.7/dist-packages/sklearn/neural_network/_multilayer_perceptron.py:1109: DataConversionWarning: A column-vector y was passed when a 1d array was expected. Please change the shape of y to (n_samples, ), for example using ravel().\n",
            "  y = column_or_1d(y, warn=True)\n",
            "/usr/local/lib/python3.7/dist-packages/sklearn/neural_network/_multilayer_perceptron.py:696: ConvergenceWarning: Stochastic Optimizer: Maximum iterations (200) reached and the optimization hasn't converged yet.\n",
            "  ConvergenceWarning,\n",
            "/usr/local/lib/python3.7/dist-packages/sklearn/neural_network/_multilayer_perceptron.py:1109: DataConversionWarning: A column-vector y was passed when a 1d array was expected. Please change the shape of y to (n_samples, ), for example using ravel().\n",
            "  y = column_or_1d(y, warn=True)\n",
            "/usr/local/lib/python3.7/dist-packages/sklearn/neural_network/_multilayer_perceptron.py:696: ConvergenceWarning: Stochastic Optimizer: Maximum iterations (200) reached and the optimization hasn't converged yet.\n",
            "  ConvergenceWarning,\n",
            "/usr/local/lib/python3.7/dist-packages/sklearn/neural_network/_multilayer_perceptron.py:1109: DataConversionWarning: A column-vector y was passed when a 1d array was expected. Please change the shape of y to (n_samples, ), for example using ravel().\n",
            "  y = column_or_1d(y, warn=True)\n",
            "/usr/local/lib/python3.7/dist-packages/sklearn/neural_network/_multilayer_perceptron.py:696: ConvergenceWarning: Stochastic Optimizer: Maximum iterations (200) reached and the optimization hasn't converged yet.\n",
            "  ConvergenceWarning,\n",
            "/usr/local/lib/python3.7/dist-packages/sklearn/neural_network/_multilayer_perceptron.py:1109: DataConversionWarning: A column-vector y was passed when a 1d array was expected. Please change the shape of y to (n_samples, ), for example using ravel().\n",
            "  y = column_or_1d(y, warn=True)\n",
            "/usr/local/lib/python3.7/dist-packages/sklearn/neural_network/_multilayer_perceptron.py:696: ConvergenceWarning: Stochastic Optimizer: Maximum iterations (200) reached and the optimization hasn't converged yet.\n",
            "  ConvergenceWarning,\n",
            "/usr/local/lib/python3.7/dist-packages/sklearn/neural_network/_multilayer_perceptron.py:1109: DataConversionWarning: A column-vector y was passed when a 1d array was expected. Please change the shape of y to (n_samples, ), for example using ravel().\n",
            "  y = column_or_1d(y, warn=True)\n",
            "/usr/local/lib/python3.7/dist-packages/sklearn/neural_network/_multilayer_perceptron.py:696: ConvergenceWarning: Stochastic Optimizer: Maximum iterations (200) reached and the optimization hasn't converged yet.\n",
            "  ConvergenceWarning,\n",
            "/usr/local/lib/python3.7/dist-packages/sklearn/neural_network/_multilayer_perceptron.py:1109: DataConversionWarning: A column-vector y was passed when a 1d array was expected. Please change the shape of y to (n_samples, ), for example using ravel().\n",
            "  y = column_or_1d(y, warn=True)\n",
            "/usr/local/lib/python3.7/dist-packages/sklearn/neural_network/_multilayer_perceptron.py:696: ConvergenceWarning: Stochastic Optimizer: Maximum iterations (200) reached and the optimization hasn't converged yet.\n",
            "  ConvergenceWarning,\n",
            "/usr/local/lib/python3.7/dist-packages/sklearn/neural_network/_multilayer_perceptron.py:1109: DataConversionWarning: A column-vector y was passed when a 1d array was expected. Please change the shape of y to (n_samples, ), for example using ravel().\n",
            "  y = column_or_1d(y, warn=True)\n",
            "/usr/local/lib/python3.7/dist-packages/sklearn/neural_network/_multilayer_perceptron.py:696: ConvergenceWarning: Stochastic Optimizer: Maximum iterations (200) reached and the optimization hasn't converged yet.\n",
            "  ConvergenceWarning,\n"
          ]
        },
        {
          "output_type": "display_data",
          "data": {
            "text/plain": [
              "<Figure size 432x360 with 1 Axes>"
            ],
            "image/png": "[encoded data removed]"
          },
          "metadata": {}
        }
      ]
    },
    {
      "cell_type": "markdown",
      "source": [
        "Conclusion:-\n",
        "The Default(identity) Accuracy is higher for the preprocessed Data Set than the unprocessed ones\n",
        "it also shows higher accuracy for the hidden layers than the base data set and has higher values for logistic and tanh activation functions.\n",
        "Thus the preprocessing techniques helps improve classsification accuracy for the hidden layer and specific activation functions-logistic,tanh while giving lower scores for identity and relu"
      ],
      "metadata": {
        "id": "2xpy3dZ_Ceqx"
      }
    }
  ]
}