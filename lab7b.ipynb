{
  "nbformat": 4,
  "nbformat_minor": 0,
  "metadata": {
    "colab": {
      "provenance": []
    },
    "kernelspec": {
      "name": "python3",
      "display_name": "Python 3"
    },
    "language_info": {
      "name": "python"
    }
  },
  "cells": [
    {
      "cell_type": "code",
      "execution_count": null,
      "metadata": {
        "id": "5mwZCw-4v8_o"
      },
      "outputs": [],
      "source": [
        "import matplotlib.pyplot as plt\n",
        "import numpy as np\n",
        "import pandas as pd\n",
        "from sklearn.datasets import load_digits\n",
        "from sklearn.linear_model import LogisticRegression\n",
        "from sklearn.metrics import classification_report, confusion_matrix\n",
        "from sklearn.model_selection import train_test_split\n",
        "from sklearn.preprocessing import StandardScaler\n",
        "\n",
        "data = pd.read_csv('student-por.csv')\n",
        "df = pd.DataFrame(data)"
      ]
    },
    {
      "cell_type": "code",
      "source": [
        "df2 = df[['G3','higher']].copy()\n",
        "df2.higher=df2.higher.map(dict(yes=1, no=0))\n",
        "df2.head(100)"
      ],
      "metadata": {
        "colab": {
          "base_uri": "https://localhost:8080/",
          "height": 424
        },
        "id": "Ceb4vk_zwUZf",
        "outputId": "efa885e9-375d-45aa-dbdf-8291e06becfb"
      },
      "execution_count": null,
      "outputs": [
        {
          "output_type": "execute_result",
          "data": {
            "text/plain": [
              "    G3  higher\n",
              "0   11       1\n",
              "1   11       1\n",
              "2   12       1\n",
              "3   14       1\n",
              "4   13       1\n",
              "..  ..     ...\n",
              "95  13       1\n",
              "96  11       1\n",
              "97  12       1\n",
              "98  13       1\n",
              "99  13       1\n",
              "\n",
              "[100 rows x 2 columns]"
            ],
            "text/html": [
              "\n",
              "  <div id=\"df-749dcf4d-75b2-4e74-816a-14fdfbf53ebe\">\n",
              "    <div class=\"colab-df-container\">\n",
              "      <div>\n",
              "<style scoped>\n",
              "    .dataframe tbody tr th:only-of-type {\n",
              "        vertical-align: middle;\n",
              "    }\n",
              "\n",
              "    .dataframe tbody tr th {\n",
              "        vertical-align: top;\n",
              "    }\n",
              "\n",
              "    .dataframe thead th {\n",
              "        text-align: right;\n",
              "    }\n",
              "</style>\n",
              "<table border=\"1\" class=\"dataframe\">\n",
              "  <thead>\n",
              "    <tr style=\"text-align: right;\">\n",
              "      <th></th>\n",
              "      <th>G3</th>\n",
              "      <th>higher</th>\n",
              "    </tr>\n",
              "  </thead>\n",
              "  <tbody>\n",
              "    <tr>\n",
              "      <th>0</th>\n",
              "      <td>11</td>\n",
              "      <td>1</td>\n",
              "    </tr>\n",
              "    <tr>\n",
              "      <th>1</th>\n",
              "      <td>11</td>\n",
              "      <td>1</td>\n",
              "    </tr>\n",
              "    <tr>\n",
              "      <th>2</th>\n",
              "      <td>12</td>\n",
              "      <td>1</td>\n",
              "    </tr>\n",
              "    <tr>\n",
              "      <th>3</th>\n",
              "      <td>14</td>\n",
              "      <td>1</td>\n",
              "    </tr>\n",
              "    <tr>\n",
              "      <th>4</th>\n",
              "      <td>13</td>\n",
              "      <td>1</td>\n",
              "    </tr>\n",
              "    <tr>\n",
              "      <th>...</th>\n",
              "      <td>...</td>\n",
              "      <td>...</td>\n",
              "    </tr>\n",
              "    <tr>\n",
              "      <th>95</th>\n",
              "      <td>13</td>\n",
              "      <td>1</td>\n",
              "    </tr>\n",
              "    <tr>\n",
              "      <th>96</th>\n",
              "      <td>11</td>\n",
              "      <td>1</td>\n",
              "    </tr>\n",
              "    <tr>\n",
              "      <th>97</th>\n",
              "      <td>12</td>\n",
              "      <td>1</td>\n",
              "    </tr>\n",
              "    <tr>\n",
              "      <th>98</th>\n",
              "      <td>13</td>\n",
              "      <td>1</td>\n",
              "    </tr>\n",
              "    <tr>\n",
              "      <th>99</th>\n",
              "      <td>13</td>\n",
              "      <td>1</td>\n",
              "    </tr>\n",
              "  </tbody>\n",
              "</table>\n",
              "<p>100 rows × 2 columns</p>\n",
              "</div>\n",
              "      <button class=\"colab-df-convert\" onclick=\"convertToInteractive('df-749dcf4d-75b2-4e74-816a-14fdfbf53ebe')\"\n",
              "              title=\"Convert this dataframe to an interactive table.\"\n",
              "              style=\"display:none;\">\n",
              "        \n",
              "  <svg xmlns=\"http://www.w3.org/2000/svg\" height=\"24px\"viewBox=\"0 0 24 24\"\n",
              "       width=\"24px\">\n",
              "    <path d=\"M0 0h24v24H0V0z\" fill=\"none\"/>\n",
              "    <path d=\"M18.56 5.44l.94 2.06.94-2.06 2.06-.94-2.06-.94-.94-2.06-.94 2.06-2.06.94zm-11 1L8.5 8.5l.94-2.06 2.06-.94-2.06-.94L8.5 2.5l-.94 2.06-2.06.94zm10 10l.94 2.06.94-2.06 2.06-.94-2.06-.94-.94-2.06-.94 2.06-2.06.94z\"/><path d=\"M17.41 7.96l-1.37-1.37c-.4-.4-.92-.59-1.43-.59-.52 0-1.04.2-1.43.59L10.3 9.45l-7.72 7.72c-.78.78-.78 2.05 0 2.83L4 21.41c.39.39.9.59 1.41.59.51 0 1.02-.2 1.41-.59l7.78-7.78 2.81-2.81c.8-.78.8-2.07 0-2.86zM5.41 20L4 18.59l7.72-7.72 1.47 1.35L5.41 20z\"/>\n",
              "  </svg>\n",
              "      </button>\n",
              "      \n",
              "  <style>\n",
              "    .colab-df-container {\n",
              "      display:flex;\n",
              "      flex-wrap:wrap;\n",
              "      gap: 12px;\n",
              "    }\n",
              "\n",
              "    .colab-df-convert {\n",
              "      background-color: #E8F0FE;\n",
              "      border: none;\n",
              "      border-radius: 50%;\n",
              "      cursor: pointer;\n",
              "      display: none;\n",
              "      fill: #1967D2;\n",
              "      height: 32px;\n",
              "      padding: 0 0 0 0;\n",
              "      width: 32px;\n",
              "    }\n",
              "\n",
              "    .colab-df-convert:hover {\n",
              "      background-color: #E2EBFA;\n",
              "      box-shadow: 0px 1px 2px rgba(60, 64, 67, 0.3), 0px 1px 3px 1px rgba(60, 64, 67, 0.15);\n",
              "      fill: #174EA6;\n",
              "    }\n",
              "\n",
              "    [theme=dark] .colab-df-convert {\n",
              "      background-color: #3B4455;\n",
              "      fill: #D2E3FC;\n",
              "    }\n",
              "\n",
              "    [theme=dark] .colab-df-convert:hover {\n",
              "      background-color: #434B5C;\n",
              "      box-shadow: 0px 1px 3px 1px rgba(0, 0, 0, 0.15);\n",
              "      filter: drop-shadow(0px 1px 2px rgba(0, 0, 0, 0.3));\n",
              "      fill: #FFFFFF;\n",
              "    }\n",
              "  </style>\n",
              "\n",
              "      <script>\n",
              "        const buttonEl =\n",
              "          document.querySelector('#df-749dcf4d-75b2-4e74-816a-14fdfbf53ebe button.colab-df-convert');\n",
              "        buttonEl.style.display =\n",
              "          google.colab.kernel.accessAllowed ? 'block' : 'none';\n",
              "\n",
              "        async function convertToInteractive(key) {\n",
              "          const element = document.querySelector('#df-749dcf4d-75b2-4e74-816a-14fdfbf53ebe');\n",
              "          const dataTable =\n",
              "            await google.colab.kernel.invokeFunction('convertToInteractive',\n",
              "                                                     [key], {});\n",
              "          if (!dataTable) return;\n",
              "\n",
              "          const docLinkHtml = 'Like what you see? Visit the ' +\n",
              "            '<a target=\"_blank\" href=https://colab.research.google.com/notebooks/data_table.ipynb>data table notebook</a>'\n",
              "            + ' to learn more about interactive tables.';\n",
              "          element.innerHTML = '';\n",
              "          dataTable['output_type'] = 'display_data';\n",
              "          await google.colab.output.renderOutput(dataTable, element);\n",
              "          const docLink = document.createElement('div');\n",
              "          docLink.innerHTML = docLinkHtml;\n",
              "          element.appendChild(docLink);\n",
              "        }\n",
              "      </script>\n",
              "    </div>\n",
              "  </div>\n",
              "  "
            ]
          },
          "metadata": {},
          "execution_count": 4
        }
      ]
    },
    {
      "cell_type": "code",
      "source": [
        "from sklearn.preprocessing import StandardScaler\n",
        "#importing sklearn library\n",
        "scaler = StandardScaler()\n",
        "#calling the function standardscaler"
      ],
      "metadata": {
        "id": "89LvvdapwUbx"
      },
      "execution_count": null,
      "outputs": []
    },
    {
      "cell_type": "code",
      "source": [
        "df2.isnull().sum()"
      ],
      "metadata": {
        "colab": {
          "base_uri": "https://localhost:8080/"
        },
        "id": "D_3XzxRNwUd7",
        "outputId": "cfd0ce34-0b41-43f6-be21-3201d7b565b1"
      },
      "execution_count": null,
      "outputs": [
        {
          "output_type": "execute_result",
          "data": {
            "text/plain": [
              "G3        0\n",
              "higher    0\n",
              "dtype: int64"
            ]
          },
          "metadata": {},
          "execution_count": 5
        }
      ]
    },
    {
      "cell_type": "code",
      "source": [
        "plt.scatter(df2.G3,df2.higher,marker='+',color='red')"
      ],
      "metadata": {
        "colab": {
          "base_uri": "https://localhost:8080/",
          "height": 282
        },
        "id": "035zIN2MwUgf",
        "outputId": "ab121a30-a843-4de9-b2dc-b3b8ffd8b3cc"
      },
      "execution_count": null,
      "outputs": [
        {
          "output_type": "execute_result",
          "data": {
            "text/plain": [
              "<matplotlib.collections.PathCollection at 0x7efdfb813b90>"
            ]
          },
          "metadata": {},
          "execution_count": 7
        },
        {
          "output_type": "display_data",
          "data": {
            "text/plain": [
              "<Figure size 432x288 with 1 Axes>"
            ],
            "image/png": "[encoded data removed]"
          },
          "metadata": {
            "needs_background": "light"
          }
        }
      ]
    },
    {
      "cell_type": "code",
      "source": [
        "from sklearn.model_selection import train_test_split\n",
        "X = df2.iloc[:, :1].values\n",
        "Y = df2.iloc[:, -1].values"
      ],
      "metadata": {
        "id": "T7fG7jhdwUj4"
      },
      "execution_count": null,
      "outputs": []
    },
    {
      "cell_type": "code",
      "source": [
        "X_Train, X_Test, y_Train, y_Test = train_test_split(X, Y, test_size = 0.25, random_state = 0)"
      ],
      "metadata": {
        "id": "rHAJunh3wUmQ"
      },
      "execution_count": null,
      "outputs": []
    },
    {
      "cell_type": "code",
      "source": [
        "print(X_Test)"
      ],
      "metadata": {
        "colab": {
          "base_uri": "https://localhost:8080/"
        },
        "id": "XjJTXCO8wUob",
        "outputId": "07fc030a-7749-482f-cba8-99208c675c6f"
      },
      "execution_count": null,
      "outputs": [
        {
          "output_type": "stream",
          "name": "stdout",
          "text": [
            "[[ 8]\n",
            " [15]\n",
            " [16]\n",
            " [10]\n",
            " [10]\n",
            " [12]\n",
            " [13]\n",
            " [17]\n",
            " [12]\n",
            " [12]\n",
            " [11]\n",
            " [10]\n",
            " [13]\n",
            " [ 8]\n",
            " [18]\n",
            " [12]\n",
            " [13]\n",
            " [13]\n",
            " [10]\n",
            " [10]\n",
            " [12]\n",
            " [10]\n",
            " [17]\n",
            " [15]\n",
            " [14]\n",
            " [ 0]\n",
            " [12]\n",
            " [14]\n",
            " [12]\n",
            " [ 9]\n",
            " [13]\n",
            " [16]\n",
            " [13]\n",
            " [16]\n",
            " [12]\n",
            " [10]\n",
            " [10]\n",
            " [11]\n",
            " [13]\n",
            " [10]\n",
            " [15]\n",
            " [18]\n",
            " [11]\n",
            " [13]\n",
            " [13]\n",
            " [10]\n",
            " [14]\n",
            " [ 9]\n",
            " [11]\n",
            " [10]\n",
            " [ 8]\n",
            " [17]\n",
            " [ 9]\n",
            " [13]\n",
            " [ 8]\n",
            " [11]\n",
            " [12]\n",
            " [12]\n",
            " [15]\n",
            " [15]\n",
            " [13]\n",
            " [ 7]\n",
            " [12]\n",
            " [10]\n",
            " [12]\n",
            " [12]\n",
            " [11]\n",
            " [13]\n",
            " [14]\n",
            " [ 8]\n",
            " [ 9]\n",
            " [11]\n",
            " [13]\n",
            " [11]\n",
            " [14]\n",
            " [13]\n",
            " [14]\n",
            " [13]\n",
            " [13]\n",
            " [13]\n",
            " [14]\n",
            " [11]\n",
            " [10]\n",
            " [14]\n",
            " [17]\n",
            " [13]\n",
            " [10]\n",
            " [12]\n",
            " [13]\n",
            " [10]\n",
            " [12]\n",
            " [16]\n",
            " [17]\n",
            " [11]\n",
            " [ 6]\n",
            " [11]\n",
            " [14]\n",
            " [11]\n",
            " [13]\n",
            " [15]\n",
            " [14]\n",
            " [10]\n",
            " [ 8]\n",
            " [11]\n",
            " [10]\n",
            " [12]\n",
            " [17]\n",
            " [11]\n",
            " [ 9]\n",
            " [15]\n",
            " [12]\n",
            " [13]\n",
            " [14]\n",
            " [14]\n",
            " [12]\n",
            " [11]\n",
            " [15]\n",
            " [16]\n",
            " [10]\n",
            " [12]\n",
            " [ 8]\n",
            " [11]\n",
            " [11]\n",
            " [11]\n",
            " [14]\n",
            " [15]\n",
            " [14]\n",
            " [15]\n",
            " [10]\n",
            " [11]\n",
            " [12]\n",
            " [ 7]\n",
            " [17]\n",
            " [13]\n",
            " [12]\n",
            " [10]\n",
            " [ 0]\n",
            " [ 0]\n",
            " [12]\n",
            " [11]\n",
            " [15]\n",
            " [10]\n",
            " [10]\n",
            " [12]\n",
            " [16]\n",
            " [12]\n",
            " [ 7]\n",
            " [14]\n",
            " [17]\n",
            " [13]\n",
            " [17]\n",
            " [13]\n",
            " [13]\n",
            " [11]\n",
            " [12]\n",
            " [14]\n",
            " [16]\n",
            " [11]\n",
            " [ 9]\n",
            " [18]\n",
            " [14]\n",
            " [16]\n",
            " [11]]\n"
          ]
        }
      ]
    },
    {
      "cell_type": "code",
      "source": [
        "from sklearn.linear_model import LogisticRegression\n",
        "model = LogisticRegression()"
      ],
      "metadata": {
        "id": "H-TJO7IXwUq8"
      },
      "execution_count": null,
      "outputs": []
    },
    {
      "cell_type": "code",
      "source": [
        "model.fit(X_Train, y_Train)"
      ],
      "metadata": {
        "colab": {
          "base_uri": "https://localhost:8080/"
        },
        "id": "95yx20ISwUtO",
        "outputId": "4d54b06e-1f78-4131-febc-db38c2f61a6d"
      },
      "execution_count": null,
      "outputs": [
        {
          "output_type": "execute_result",
          "data": {
            "text/plain": [
              "LogisticRegression()"
            ]
          },
          "metadata": {},
          "execution_count": 14
        }
      ]
    },
    {
      "cell_type": "code",
      "source": [
        "y_predicted = model.predict(X_Test)"
      ],
      "metadata": {
        "id": "gjt3LLNhwUvf"
      },
      "execution_count": null,
      "outputs": []
    },
    {
      "cell_type": "code",
      "source": [
        "model.predict_proba(X_Test)"
      ],
      "metadata": {
        "colab": {
          "base_uri": "https://localhost:8080/"
        },
        "id": "evvzUe-1wUxz",
        "outputId": "550274ff-b984-4120-f9c9-61cb5a5d94cb"
      },
      "execution_count": null,
      "outputs": [
        {
          "output_type": "execute_result",
          "data": {
            "text/plain": [
              "array([[0.22866751, 0.77133249],\n",
              "       [0.03224348, 0.96775652],\n",
              "       [0.02380135, 0.97619865],\n",
              "       [0.13700767, 0.86299233],\n",
              "       [0.13700767, 0.86299233],\n",
              "       [0.07835667, 0.92164333],\n",
              "       [0.05857171, 0.94142829],\n",
              "       [0.01752954, 0.98247046],\n",
              "       [0.07835667, 0.92164333],\n",
              "       [0.07835667, 0.92164333],\n",
              "       [0.1040859 , 0.8959141 ],\n",
              "       [0.13700767, 0.86299233],\n",
              "       [0.05857171, 0.94142829],\n",
              "       [0.22866751, 0.77133249],\n",
              "       [0.01288857, 0.98711143],\n",
              "       [0.07835667, 0.92164333],\n",
              "       [0.05857171, 0.94142829],\n",
              "       [0.05857171, 0.94142829],\n",
              "       [0.13700767, 0.86299233],\n",
              "       [0.13700767, 0.86299233],\n",
              "       [0.07835667, 0.92164333],\n",
              "       [0.13700767, 0.86299233],\n",
              "       [0.01752954, 0.98247046],\n",
              "       [0.03224348, 0.96775652],\n",
              "       [0.04354639, 0.95645361],\n",
              "       [0.78282793, 0.21717207],\n",
              "       [0.07835667, 0.92164333],\n",
              "       [0.04354639, 0.95645361],\n",
              "       [0.07835667, 0.92164333],\n",
              "       [0.17827043, 0.82172957],\n",
              "       [0.05857171, 0.94142829],\n",
              "       [0.02380135, 0.97619865],\n",
              "       [0.05857171, 0.94142829],\n",
              "       [0.02380135, 0.97619865],\n",
              "       [0.07835667, 0.92164333],\n",
              "       [0.13700767, 0.86299233],\n",
              "       [0.13700767, 0.86299233],\n",
              "       [0.1040859 , 0.8959141 ],\n",
              "       [0.05857171, 0.94142829],\n",
              "       [0.13700767, 0.86299233],\n",
              "       [0.03224348, 0.96775652],\n",
              "       [0.01288857, 0.98711143],\n",
              "       [0.1040859 , 0.8959141 ],\n",
              "       [0.05857171, 0.94142829],\n",
              "       [0.05857171, 0.94142829],\n",
              "       [0.13700767, 0.86299233],\n",
              "       [0.04354639, 0.95645361],\n",
              "       [0.17827043, 0.82172957],\n",
              "       [0.1040859 , 0.8959141 ],\n",
              "       [0.13700767, 0.86299233],\n",
              "       [0.22866751, 0.77133249],\n",
              "       [0.01752954, 0.98247046],\n",
              "       [0.17827043, 0.82172957],\n",
              "       [0.05857171, 0.94142829],\n",
              "       [0.22866751, 0.77133249],\n",
              "       [0.1040859 , 0.8959141 ],\n",
              "       [0.07835667, 0.92164333],\n",
              "       [0.07835667, 0.92164333],\n",
              "       [0.03224348, 0.96775652],\n",
              "       [0.03224348, 0.96775652],\n",
              "       [0.05857171, 0.94142829],\n",
              "       [0.28831304, 0.71168696],\n",
              "       [0.07835667, 0.92164333],\n",
              "       [0.13700767, 0.86299233],\n",
              "       [0.07835667, 0.92164333],\n",
              "       [0.07835667, 0.92164333],\n",
              "       [0.1040859 , 0.8959141 ],\n",
              "       [0.05857171, 0.94142829],\n",
              "       [0.04354639, 0.95645361],\n",
              "       [0.22866751, 0.77133249],\n",
              "       [0.17827043, 0.82172957],\n",
              "       [0.1040859 , 0.8959141 ],\n",
              "       [0.05857171, 0.94142829],\n",
              "       [0.1040859 , 0.8959141 ],\n",
              "       [0.04354639, 0.95645361],\n",
              "       [0.05857171, 0.94142829],\n",
              "       [0.04354639, 0.95645361],\n",
              "       [0.05857171, 0.94142829],\n",
              "       [0.05857171, 0.94142829],\n",
              "       [0.05857171, 0.94142829],\n",
              "       [0.04354639, 0.95645361],\n",
              "       [0.1040859 , 0.8959141 ],\n",
              "       [0.13700767, 0.86299233],\n",
              "       [0.04354639, 0.95645361],\n",
              "       [0.01752954, 0.98247046],\n",
              "       [0.05857171, 0.94142829],\n",
              "       [0.13700767, 0.86299233],\n",
              "       [0.07835667, 0.92164333],\n",
              "       [0.05857171, 0.94142829],\n",
              "       [0.13700767, 0.86299233],\n",
              "       [0.07835667, 0.92164333],\n",
              "       [0.02380135, 0.97619865],\n",
              "       [0.01752954, 0.98247046],\n",
              "       [0.1040859 , 0.8959141 ],\n",
              "       [0.35632926, 0.64367074],\n",
              "       [0.1040859 , 0.8959141 ],\n",
              "       [0.04354639, 0.95645361],\n",
              "       [0.1040859 , 0.8959141 ],\n",
              "       [0.05857171, 0.94142829],\n",
              "       [0.03224348, 0.96775652],\n",
              "       [0.04354639, 0.95645361],\n",
              "       [0.13700767, 0.86299233],\n",
              "       [0.22866751, 0.77133249],\n",
              "       [0.1040859 , 0.8959141 ],\n",
              "       [0.13700767, 0.86299233],\n",
              "       [0.07835667, 0.92164333],\n",
              "       [0.01752954, 0.98247046],\n",
              "       [0.1040859 , 0.8959141 ],\n",
              "       [0.17827043, 0.82172957],\n",
              "       [0.03224348, 0.96775652],\n",
              "       [0.07835667, 0.92164333],\n",
              "       [0.05857171, 0.94142829],\n",
              "       [0.04354639, 0.95645361],\n",
              "       [0.04354639, 0.95645361],\n",
              "       [0.07835667, 0.92164333],\n",
              "       [0.1040859 , 0.8959141 ],\n",
              "       [0.03224348, 0.96775652],\n",
              "       [0.02380135, 0.97619865],\n",
              "       [0.13700767, 0.86299233],\n",
              "       [0.07835667, 0.92164333],\n",
              "       [0.22866751, 0.77133249],\n",
              "       [0.1040859 , 0.8959141 ],\n",
              "       [0.1040859 , 0.8959141 ],\n",
              "       [0.1040859 , 0.8959141 ],\n",
              "       [0.04354639, 0.95645361],\n",
              "       [0.03224348, 0.96775652],\n",
              "       [0.04354639, 0.95645361],\n",
              "       [0.03224348, 0.96775652],\n",
              "       [0.13700767, 0.86299233],\n",
              "       [0.1040859 , 0.8959141 ],\n",
              "       [0.07835667, 0.92164333],\n",
              "       [0.28831304, 0.71168696],\n",
              "       [0.01752954, 0.98247046],\n",
              "       [0.05857171, 0.94142829],\n",
              "       [0.07835667, 0.92164333],\n",
              "       [0.13700767, 0.86299233],\n",
              "       [0.78282793, 0.21717207],\n",
              "       [0.78282793, 0.21717207],\n",
              "       [0.07835667, 0.92164333],\n",
              "       [0.1040859 , 0.8959141 ],\n",
              "       [0.03224348, 0.96775652],\n",
              "       [0.13700767, 0.86299233],\n",
              "       [0.13700767, 0.86299233],\n",
              "       [0.07835667, 0.92164333],\n",
              "       [0.02380135, 0.97619865],\n",
              "       [0.07835667, 0.92164333],\n",
              "       [0.28831304, 0.71168696],\n",
              "       [0.04354639, 0.95645361],\n",
              "       [0.01752954, 0.98247046],\n",
              "       [0.05857171, 0.94142829],\n",
              "       [0.01752954, 0.98247046],\n",
              "       [0.05857171, 0.94142829],\n",
              "       [0.05857171, 0.94142829],\n",
              "       [0.1040859 , 0.8959141 ],\n",
              "       [0.07835667, 0.92164333],\n",
              "       [0.04354639, 0.95645361],\n",
              "       [0.02380135, 0.97619865],\n",
              "       [0.1040859 , 0.8959141 ],\n",
              "       [0.17827043, 0.82172957],\n",
              "       [0.01288857, 0.98711143],\n",
              "       [0.04354639, 0.95645361],\n",
              "       [0.02380135, 0.97619865],\n",
              "       [0.1040859 , 0.8959141 ]])"
            ]
          },
          "metadata": {},
          "execution_count": 16
        }
      ]
    },
    {
      "cell_type": "code",
      "source": [
        "model.score(X_Test,y_Test)"
      ],
      "metadata": {
        "colab": {
          "base_uri": "https://localhost:8080/"
        },
        "id": "WXqkkHvOwU1W",
        "outputId": "fc6e48b7-f530-481e-f791-75e27dd363c4"
      },
      "execution_count": null,
      "outputs": [
        {
          "output_type": "execute_result",
          "data": {
            "text/plain": [
              "0.8957055214723927"
            ]
          },
          "metadata": {},
          "execution_count": 17
        }
      ]
    },
    {
      "cell_type": "code",
      "source": [
        "confusion_matrix(y_Test, y_predicted)"
      ],
      "metadata": {
        "colab": {
          "base_uri": "https://localhost:8080/"
        },
        "id": "n9zFAiG5x5bX",
        "outputId": "f8a08123-c0ee-4b4e-92aa-8c01e420b070"
      },
      "execution_count": null,
      "outputs": [
        {
          "output_type": "execute_result",
          "data": {
            "text/plain": [
              "array([[  0,  14],\n",
              "       [  3, 146]])"
            ]
          },
          "metadata": {},
          "execution_count": 18
        }
      ]
    },
    {
      "cell_type": "code",
      "source": [
        "print(classification_report(y_Test, y_predicted))"
      ],
      "metadata": {
        "colab": {
          "base_uri": "https://localhost:8080/"
        },
        "id": "zUizlyC9x_ST",
        "outputId": "886cbf5b-ce95-4ce8-f5f9-f846eb29aad4"
      },
      "execution_count": null,
      "outputs": [
        {
          "output_type": "stream",
          "name": "stdout",
          "text": [
            "              precision    recall  f1-score   support\n",
            "\n",
            "           0       0.00      0.00      0.00        14\n",
            "           1       0.91      0.98      0.94       149\n",
            "\n",
            "    accuracy                           0.90       163\n",
            "   macro avg       0.46      0.49      0.47       163\n",
            "weighted avg       0.83      0.90      0.86       163\n",
            "\n"
          ]
        }
      ]
    }
  ]
}