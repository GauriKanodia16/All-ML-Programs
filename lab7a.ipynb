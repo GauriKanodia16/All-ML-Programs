{
  "nbformat": 4,
  "nbformat_minor": 0,
  "metadata": {
    "colab": {
      "provenance": []
    },
    "kernelspec": {
      "name": "python3",
      "display_name": "Python 3"
    },
    "language_info": {
      "name": "python"
    }
  },
  "cells": [
    {
      "cell_type": "code",
      "execution_count": null,
      "metadata": {
        "id": "SoMcLjT_SJg2"
      },
      "outputs": [],
      "source": [
        "import pandas as pd\n",
        "import numpy as np\n",
        "import seaborn as sns\n",
        "import matplotlib.pyplot as plt\n",
        "#importing libraries"
      ]
    },
    {
      "cell_type": "code",
      "source": [
        "df = pd.read_csv(\"/content/student-por.csv\")\n",
        "#importing dataset"
      ],
      "metadata": {
        "id": "__VmeWYUSLZY"
      },
      "execution_count": null,
      "outputs": []
    },
    {
      "cell_type": "code",
      "source": [
        "df.head()\n",
        "#printing the head of the dataset"
      ],
      "metadata": {
        "colab": {
          "base_uri": "https://localhost:8080/",
          "height": 299
        },
        "id": "VdqkMQzVSLbg",
        "outputId": "9274ca67-3b6a-41af-c758-9c779cd382ae"
      },
      "execution_count": null,
      "outputs": [
        {
          "output_type": "execute_result",
          "data": {
            "text/plain": [
              "  school sex  age address famsize Pstatus  Medu  Fedu     Mjob      Fjob  ...  \\\n",
              "0     GP   F   18       U     GT3       A     4     4  at_home   teacher  ...   \n",
              "1     GP   F   17       U     GT3       T     1     1  at_home     other  ...   \n",
              "2     GP   F   15       U     LE3       T     1     1  at_home     other  ...   \n",
              "3     GP   F   15       U     GT3       T     4     2   health  services  ...   \n",
              "4     GP   F   16       U     GT3       T     3     3    other     other  ...   \n",
              "\n",
              "  famrel freetime  goout  Dalc  Walc health absences  G1  G2  G3  \n",
              "0      4        3      4     1     1      3        4   0  11  11  \n",
              "1      5        3      3     1     1      3        2   9  11  11  \n",
              "2      4        3      2     2     3      3        6  12  13  12  \n",
              "3      3        2      2     1     1      5        0  14  14  14  \n",
              "4      4        3      2     1     2      5        0  11  13  13  \n",
              "\n",
              "[5 rows x 33 columns]"
            ],
            "text/html": [
              "\n",
              "  <div id=\"df-eb370d91-3fc6-4b01-a986-9598e1c122c0\">\n",
              "    <div class=\"colab-df-container\">\n",
              "      <div>\n",
              "<style scoped>\n",
              "    .dataframe tbody tr th:only-of-type {\n",
              "        vertical-align: middle;\n",
              "    }\n",
              "\n",
              "    .dataframe tbody tr th {\n",
              "        vertical-align: top;\n",
              "    }\n",
              "\n",
              "    .dataframe thead th {\n",
              "        text-align: right;\n",
              "    }\n",
              "</style>\n",
              "<table border=\"1\" class=\"dataframe\">\n",
              "  <thead>\n",
              "    <tr style=\"text-align: right;\">\n",
              "      <th></th>\n",
              "      <th>school</th>\n",
              "      <th>sex</th>\n",
              "      <th>age</th>\n",
              "      <th>address</th>\n",
              "      <th>famsize</th>\n",
              "      <th>Pstatus</th>\n",
              "      <th>Medu</th>\n",
              "      <th>Fedu</th>\n",
              "      <th>Mjob</th>\n",
              "      <th>Fjob</th>\n",
              "      <th>...</th>\n",
              "      <th>famrel</th>\n",
              "      <th>freetime</th>\n",
              "      <th>goout</th>\n",
              "      <th>Dalc</th>\n",
              "      <th>Walc</th>\n",
              "      <th>health</th>\n",
              "      <th>absences</th>\n",
              "      <th>G1</th>\n",
              "      <th>G2</th>\n",
              "      <th>G3</th>\n",
              "    </tr>\n",
              "  </thead>\n",
              "  <tbody>\n",
              "    <tr>\n",
              "      <th>0</th>\n",
              "      <td>GP</td>\n",
              "      <td>F</td>\n",
              "      <td>18</td>\n",
              "      <td>U</td>\n",
              "      <td>GT3</td>\n",
              "      <td>A</td>\n",
              "      <td>4</td>\n",
              "      <td>4</td>\n",
              "      <td>at_home</td>\n",
              "      <td>teacher</td>\n",
              "      <td>...</td>\n",
              "      <td>4</td>\n",
              "      <td>3</td>\n",
              "      <td>4</td>\n",
              "      <td>1</td>\n",
              "      <td>1</td>\n",
              "      <td>3</td>\n",
              "      <td>4</td>\n",
              "      <td>0</td>\n",
              "      <td>11</td>\n",
              "      <td>11</td>\n",
              "    </tr>\n",
              "    <tr>\n",
              "      <th>1</th>\n",
              "      <td>GP</td>\n",
              "      <td>F</td>\n",
              "      <td>17</td>\n",
              "      <td>U</td>\n",
              "      <td>GT3</td>\n",
              "      <td>T</td>\n",
              "      <td>1</td>\n",
              "      <td>1</td>\n",
              "      <td>at_home</td>\n",
              "      <td>other</td>\n",
              "      <td>...</td>\n",
              "      <td>5</td>\n",
              "      <td>3</td>\n",
              "      <td>3</td>\n",
              "      <td>1</td>\n",
              "      <td>1</td>\n",
              "      <td>3</td>\n",
              "      <td>2</td>\n",
              "      <td>9</td>\n",
              "      <td>11</td>\n",
              "      <td>11</td>\n",
              "    </tr>\n",
              "    <tr>\n",
              "      <th>2</th>\n",
              "      <td>GP</td>\n",
              "      <td>F</td>\n",
              "      <td>15</td>\n",
              "      <td>U</td>\n",
              "      <td>LE3</td>\n",
              "      <td>T</td>\n",
              "      <td>1</td>\n",
              "      <td>1</td>\n",
              "      <td>at_home</td>\n",
              "      <td>other</td>\n",
              "      <td>...</td>\n",
              "      <td>4</td>\n",
              "      <td>3</td>\n",
              "      <td>2</td>\n",
              "      <td>2</td>\n",
              "      <td>3</td>\n",
              "      <td>3</td>\n",
              "      <td>6</td>\n",
              "      <td>12</td>\n",
              "      <td>13</td>\n",
              "      <td>12</td>\n",
              "    </tr>\n",
              "    <tr>\n",
              "      <th>3</th>\n",
              "      <td>GP</td>\n",
              "      <td>F</td>\n",
              "      <td>15</td>\n",
              "      <td>U</td>\n",
              "      <td>GT3</td>\n",
              "      <td>T</td>\n",
              "      <td>4</td>\n",
              "      <td>2</td>\n",
              "      <td>health</td>\n",
              "      <td>services</td>\n",
              "      <td>...</td>\n",
              "      <td>3</td>\n",
              "      <td>2</td>\n",
              "      <td>2</td>\n",
              "      <td>1</td>\n",
              "      <td>1</td>\n",
              "      <td>5</td>\n",
              "      <td>0</td>\n",
              "      <td>14</td>\n",
              "      <td>14</td>\n",
              "      <td>14</td>\n",
              "    </tr>\n",
              "    <tr>\n",
              "      <th>4</th>\n",
              "      <td>GP</td>\n",
              "      <td>F</td>\n",
              "      <td>16</td>\n",
              "      <td>U</td>\n",
              "      <td>GT3</td>\n",
              "      <td>T</td>\n",
              "      <td>3</td>\n",
              "      <td>3</td>\n",
              "      <td>other</td>\n",
              "      <td>other</td>\n",
              "      <td>...</td>\n",
              "      <td>4</td>\n",
              "      <td>3</td>\n",
              "      <td>2</td>\n",
              "      <td>1</td>\n",
              "      <td>2</td>\n",
              "      <td>5</td>\n",
              "      <td>0</td>\n",
              "      <td>11</td>\n",
              "      <td>13</td>\n",
              "      <td>13</td>\n",
              "    </tr>\n",
              "  </tbody>\n",
              "</table>\n",
              "<p>5 rows × 33 columns</p>\n",
              "</div>\n",
              "      <button class=\"colab-df-convert\" onclick=\"convertToInteractive('df-eb370d91-3fc6-4b01-a986-9598e1c122c0')\"\n",
              "              title=\"Convert this dataframe to an interactive table.\"\n",
              "              style=\"display:none;\">\n",
              "        \n",
              "  <svg xmlns=\"http://www.w3.org/2000/svg\" height=\"24px\"viewBox=\"0 0 24 24\"\n",
              "       width=\"24px\">\n",
              "    <path d=\"M0 0h24v24H0V0z\" fill=\"none\"/>\n",
              "    <path d=\"M18.56 5.44l.94 2.06.94-2.06 2.06-.94-2.06-.94-.94-2.06-.94 2.06-2.06.94zm-11 1L8.5 8.5l.94-2.06 2.06-.94-2.06-.94L8.5 2.5l-.94 2.06-2.06.94zm10 10l.94 2.06.94-2.06 2.06-.94-2.06-.94-.94-2.06-.94 2.06-2.06.94z\"/><path d=\"M17.41 7.96l-1.37-1.37c-.4-.4-.92-.59-1.43-.59-.52 0-1.04.2-1.43.59L10.3 9.45l-7.72 7.72c-.78.78-.78 2.05 0 2.83L4 21.41c.39.39.9.59 1.41.59.51 0 1.02-.2 1.41-.59l7.78-7.78 2.81-2.81c.8-.78.8-2.07 0-2.86zM5.41 20L4 18.59l7.72-7.72 1.47 1.35L5.41 20z\"/>\n",
              "  </svg>\n",
              "      </button>\n",
              "      \n",
              "  <style>\n",
              "    .colab-df-container {\n",
              "      display:flex;\n",
              "      flex-wrap:wrap;\n",
              "      gap: 12px;\n",
              "    }\n",
              "\n",
              "    .colab-df-convert {\n",
              "      background-color: #E8F0FE;\n",
              "      border: none;\n",
              "      border-radius: 50%;\n",
              "      cursor: pointer;\n",
              "      display: none;\n",
              "      fill: #1967D2;\n",
              "      height: 32px;\n",
              "      padding: 0 0 0 0;\n",
              "      width: 32px;\n",
              "    }\n",
              "\n",
              "    .colab-df-convert:hover {\n",
              "      background-color: #E2EBFA;\n",
              "      box-shadow: 0px 1px 2px rgba(60, 64, 67, 0.3), 0px 1px 3px 1px rgba(60, 64, 67, 0.15);\n",
              "      fill: #174EA6;\n",
              "    }\n",
              "\n",
              "    [theme=dark] .colab-df-convert {\n",
              "      background-color: #3B4455;\n",
              "      fill: #D2E3FC;\n",
              "    }\n",
              "\n",
              "    [theme=dark] .colab-df-convert:hover {\n",
              "      background-color: #434B5C;\n",
              "      box-shadow: 0px 1px 3px 1px rgba(0, 0, 0, 0.15);\n",
              "      filter: drop-shadow(0px 1px 2px rgba(0, 0, 0, 0.3));\n",
              "      fill: #FFFFFF;\n",
              "    }\n",
              "  </style>\n",
              "\n",
              "      <script>\n",
              "        const buttonEl =\n",
              "          document.querySelector('#df-eb370d91-3fc6-4b01-a986-9598e1c122c0 button.colab-df-convert');\n",
              "        buttonEl.style.display =\n",
              "          google.colab.kernel.accessAllowed ? 'block' : 'none';\n",
              "\n",
              "        async function convertToInteractive(key) {\n",
              "          const element = document.querySelector('#df-eb370d91-3fc6-4b01-a986-9598e1c122c0');\n",
              "          const dataTable =\n",
              "            await google.colab.kernel.invokeFunction('convertToInteractive',\n",
              "                                                     [key], {});\n",
              "          if (!dataTable) return;\n",
              "\n",
              "          const docLinkHtml = 'Like what you see? Visit the ' +\n",
              "            '<a target=\"_blank\" href=https://colab.research.google.com/notebooks/data_table.ipynb>data table notebook</a>'\n",
              "            + ' to learn more about interactive tables.';\n",
              "          element.innerHTML = '';\n",
              "          dataTable['output_type'] = 'display_data';\n",
              "          await google.colab.output.renderOutput(dataTable, element);\n",
              "          const docLink = document.createElement('div');\n",
              "          docLink.innerHTML = docLinkHtml;\n",
              "          element.appendChild(docLink);\n",
              "        }\n",
              "      </script>\n",
              "    </div>\n",
              "  </div>\n",
              "  "
            ]
          },
          "metadata": {},
          "execution_count": 3
        }
      ]
    },
    {
      "cell_type": "code",
      "source": [
        "df['Medu'].unique()"
      ],
      "metadata": {
        "colab": {
          "base_uri": "https://localhost:8080/"
        },
        "id": "CIeRQpqgSLdx",
        "outputId": "07c99592-f646-4a5e-a5d4-cbf94b60f4c4"
      },
      "execution_count": null,
      "outputs": [
        {
          "output_type": "execute_result",
          "data": {
            "text/plain": [
              "array([4, 1, 3, 2, 0])"
            ]
          },
          "metadata": {},
          "execution_count": 9
        }
      ]
    },
    {
      "cell_type": "code",
      "source": [
        "df['Mjob'].unique()"
      ],
      "metadata": {
        "colab": {
          "base_uri": "https://localhost:8080/"
        },
        "id": "z31r3uJSSLfv",
        "outputId": "7f832f21-923b-4606-9907-31f64896e38b"
      },
      "execution_count": null,
      "outputs": [
        {
          "output_type": "execute_result",
          "data": {
            "text/plain": [
              "array(['at_home', 'health', 'other', 'services', 'teacher'], dtype=object)"
            ]
          },
          "metadata": {},
          "execution_count": 10
        }
      ]
    },
    {
      "cell_type": "code",
      "source": [
        "df2 = df[['school','famsize','Pstatus','Mjob','Fjob','sex']]\n",
        "#dropping the column which won't be used\n",
        "df2"
      ],
      "metadata": {
        "colab": {
          "base_uri": "https://localhost:8080/",
          "height": 424
        },
        "id": "7yqL48maSLiI",
        "outputId": "c1ac87c0-ad61-48bc-fdab-fa57c5c7f396"
      },
      "execution_count": null,
      "outputs": [
        {
          "output_type": "execute_result",
          "data": {
            "text/plain": [
              "    school famsize Pstatus      Mjob      Fjob sex\n",
              "0       GP     GT3       A   at_home   teacher   F\n",
              "1       GP     GT3       T   at_home     other   F\n",
              "2       GP     LE3       T   at_home     other   F\n",
              "3       GP     GT3       T    health  services   F\n",
              "4       GP     GT3       T     other     other   F\n",
              "..     ...     ...     ...       ...       ...  ..\n",
              "644     MS     GT3       T  services     other   F\n",
              "645     MS     LE3       T   teacher  services   F\n",
              "646     MS     GT3       T     other     other   F\n",
              "647     MS     LE3       T  services  services   M\n",
              "648     MS     LE3       T  services     other   M\n",
              "\n",
              "[649 rows x 6 columns]"
            ],
            "text/html": [
              "\n",
              "  <div id=\"df-bb948a45-821a-4986-9a3d-7be686cc9f42\">\n",
              "    <div class=\"colab-df-container\">\n",
              "      <div>\n",
              "<style scoped>\n",
              "    .dataframe tbody tr th:only-of-type {\n",
              "        vertical-align: middle;\n",
              "    }\n",
              "\n",
              "    .dataframe tbody tr th {\n",
              "        vertical-align: top;\n",
              "    }\n",
              "\n",
              "    .dataframe thead th {\n",
              "        text-align: right;\n",
              "    }\n",
              "</style>\n",
              "<table border=\"1\" class=\"dataframe\">\n",
              "  <thead>\n",
              "    <tr style=\"text-align: right;\">\n",
              "      <th></th>\n",
              "      <th>school</th>\n",
              "      <th>famsize</th>\n",
              "      <th>Pstatus</th>\n",
              "      <th>Mjob</th>\n",
              "      <th>Fjob</th>\n",
              "      <th>sex</th>\n",
              "    </tr>\n",
              "  </thead>\n",
              "  <tbody>\n",
              "    <tr>\n",
              "      <th>0</th>\n",
              "      <td>GP</td>\n",
              "      <td>GT3</td>\n",
              "      <td>A</td>\n",
              "      <td>at_home</td>\n",
              "      <td>teacher</td>\n",
              "      <td>F</td>\n",
              "    </tr>\n",
              "    <tr>\n",
              "      <th>1</th>\n",
              "      <td>GP</td>\n",
              "      <td>GT3</td>\n",
              "      <td>T</td>\n",
              "      <td>at_home</td>\n",
              "      <td>other</td>\n",
              "      <td>F</td>\n",
              "    </tr>\n",
              "    <tr>\n",
              "      <th>2</th>\n",
              "      <td>GP</td>\n",
              "      <td>LE3</td>\n",
              "      <td>T</td>\n",
              "      <td>at_home</td>\n",
              "      <td>other</td>\n",
              "      <td>F</td>\n",
              "    </tr>\n",
              "    <tr>\n",
              "      <th>3</th>\n",
              "      <td>GP</td>\n",
              "      <td>GT3</td>\n",
              "      <td>T</td>\n",
              "      <td>health</td>\n",
              "      <td>services</td>\n",
              "      <td>F</td>\n",
              "    </tr>\n",
              "    <tr>\n",
              "      <th>4</th>\n",
              "      <td>GP</td>\n",
              "      <td>GT3</td>\n",
              "      <td>T</td>\n",
              "      <td>other</td>\n",
              "      <td>other</td>\n",
              "      <td>F</td>\n",
              "    </tr>\n",
              "    <tr>\n",
              "      <th>...</th>\n",
              "      <td>...</td>\n",
              "      <td>...</td>\n",
              "      <td>...</td>\n",
              "      <td>...</td>\n",
              "      <td>...</td>\n",
              "      <td>...</td>\n",
              "    </tr>\n",
              "    <tr>\n",
              "      <th>644</th>\n",
              "      <td>MS</td>\n",
              "      <td>GT3</td>\n",
              "      <td>T</td>\n",
              "      <td>services</td>\n",
              "      <td>other</td>\n",
              "      <td>F</td>\n",
              "    </tr>\n",
              "    <tr>\n",
              "      <th>645</th>\n",
              "      <td>MS</td>\n",
              "      <td>LE3</td>\n",
              "      <td>T</td>\n",
              "      <td>teacher</td>\n",
              "      <td>services</td>\n",
              "      <td>F</td>\n",
              "    </tr>\n",
              "    <tr>\n",
              "      <th>646</th>\n",
              "      <td>MS</td>\n",
              "      <td>GT3</td>\n",
              "      <td>T</td>\n",
              "      <td>other</td>\n",
              "      <td>other</td>\n",
              "      <td>F</td>\n",
              "    </tr>\n",
              "    <tr>\n",
              "      <th>647</th>\n",
              "      <td>MS</td>\n",
              "      <td>LE3</td>\n",
              "      <td>T</td>\n",
              "      <td>services</td>\n",
              "      <td>services</td>\n",
              "      <td>M</td>\n",
              "    </tr>\n",
              "    <tr>\n",
              "      <th>648</th>\n",
              "      <td>MS</td>\n",
              "      <td>LE3</td>\n",
              "      <td>T</td>\n",
              "      <td>services</td>\n",
              "      <td>other</td>\n",
              "      <td>M</td>\n",
              "    </tr>\n",
              "  </tbody>\n",
              "</table>\n",
              "<p>649 rows × 6 columns</p>\n",
              "</div>\n",
              "      <button class=\"colab-df-convert\" onclick=\"convertToInteractive('df-bb948a45-821a-4986-9a3d-7be686cc9f42')\"\n",
              "              title=\"Convert this dataframe to an interactive table.\"\n",
              "              style=\"display:none;\">\n",
              "        \n",
              "  <svg xmlns=\"http://www.w3.org/2000/svg\" height=\"24px\"viewBox=\"0 0 24 24\"\n",
              "       width=\"24px\">\n",
              "    <path d=\"M0 0h24v24H0V0z\" fill=\"none\"/>\n",
              "    <path d=\"M18.56 5.44l.94 2.06.94-2.06 2.06-.94-2.06-.94-.94-2.06-.94 2.06-2.06.94zm-11 1L8.5 8.5l.94-2.06 2.06-.94-2.06-.94L8.5 2.5l-.94 2.06-2.06.94zm10 10l.94 2.06.94-2.06 2.06-.94-2.06-.94-.94-2.06-.94 2.06-2.06.94z\"/><path d=\"M17.41 7.96l-1.37-1.37c-.4-.4-.92-.59-1.43-.59-.52 0-1.04.2-1.43.59L10.3 9.45l-7.72 7.72c-.78.78-.78 2.05 0 2.83L4 21.41c.39.39.9.59 1.41.59.51 0 1.02-.2 1.41-.59l7.78-7.78 2.81-2.81c.8-.78.8-2.07 0-2.86zM5.41 20L4 18.59l7.72-7.72 1.47 1.35L5.41 20z\"/>\n",
              "  </svg>\n",
              "      </button>\n",
              "      \n",
              "  <style>\n",
              "    .colab-df-container {\n",
              "      display:flex;\n",
              "      flex-wrap:wrap;\n",
              "      gap: 12px;\n",
              "    }\n",
              "\n",
              "    .colab-df-convert {\n",
              "      background-color: #E8F0FE;\n",
              "      border: none;\n",
              "      border-radius: 50%;\n",
              "      cursor: pointer;\n",
              "      display: none;\n",
              "      fill: #1967D2;\n",
              "      height: 32px;\n",
              "      padding: 0 0 0 0;\n",
              "      width: 32px;\n",
              "    }\n",
              "\n",
              "    .colab-df-convert:hover {\n",
              "      background-color: #E2EBFA;\n",
              "      box-shadow: 0px 1px 2px rgba(60, 64, 67, 0.3), 0px 1px 3px 1px rgba(60, 64, 67, 0.15);\n",
              "      fill: #174EA6;\n",
              "    }\n",
              "\n",
              "    [theme=dark] .colab-df-convert {\n",
              "      background-color: #3B4455;\n",
              "      fill: #D2E3FC;\n",
              "    }\n",
              "\n",
              "    [theme=dark] .colab-df-convert:hover {\n",
              "      background-color: #434B5C;\n",
              "      box-shadow: 0px 1px 3px 1px rgba(0, 0, 0, 0.15);\n",
              "      filter: drop-shadow(0px 1px 2px rgba(0, 0, 0, 0.3));\n",
              "      fill: #FFFFFF;\n",
              "    }\n",
              "  </style>\n",
              "\n",
              "      <script>\n",
              "        const buttonEl =\n",
              "          document.querySelector('#df-bb948a45-821a-4986-9a3d-7be686cc9f42 button.colab-df-convert');\n",
              "        buttonEl.style.display =\n",
              "          google.colab.kernel.accessAllowed ? 'block' : 'none';\n",
              "\n",
              "        async function convertToInteractive(key) {\n",
              "          const element = document.querySelector('#df-bb948a45-821a-4986-9a3d-7be686cc9f42');\n",
              "          const dataTable =\n",
              "            await google.colab.kernel.invokeFunction('convertToInteractive',\n",
              "                                                     [key], {});\n",
              "          if (!dataTable) return;\n",
              "\n",
              "          const docLinkHtml = 'Like what you see? Visit the ' +\n",
              "            '<a target=\"_blank\" href=https://colab.research.google.com/notebooks/data_table.ipynb>data table notebook</a>'\n",
              "            + ' to learn more about interactive tables.';\n",
              "          element.innerHTML = '';\n",
              "          dataTable['output_type'] = 'display_data';\n",
              "          await google.colab.output.renderOutput(dataTable, element);\n",
              "          const docLink = document.createElement('div');\n",
              "          docLink.innerHTML = docLinkHtml;\n",
              "          element.appendChild(docLink);\n",
              "        }\n",
              "      </script>\n",
              "    </div>\n",
              "  </div>\n",
              "  "
            ]
          },
          "metadata": {},
          "execution_count": 11
        }
      ]
    },
    {
      "cell_type": "code",
      "source": [
        "df2['school'].unique()"
      ],
      "metadata": {
        "colab": {
          "base_uri": "https://localhost:8080/"
        },
        "id": "W4GCxbOzSLkR",
        "outputId": "ae2df583-a192-4d23-a6c5-d68c62be7564"
      },
      "execution_count": null,
      "outputs": [
        {
          "output_type": "execute_result",
          "data": {
            "text/plain": [
              "array(['GP', 'MS'], dtype=object)"
            ]
          },
          "metadata": {},
          "execution_count": 12
        }
      ]
    },
    {
      "cell_type": "code",
      "source": [
        "df2['school'].replace(['GP', 'MS'],\n",
        "                        [0, 1], inplace=True)"
      ],
      "metadata": {
        "colab": {
          "base_uri": "https://localhost:8080/"
        },
        "id": "IG4w6-zGSLms",
        "outputId": "e19522ba-0f1d-4584-d1cb-3d38ece7363f"
      },
      "execution_count": null,
      "outputs": [
        {
          "output_type": "stream",
          "name": "stderr",
          "text": [
            "/usr/local/lib/python3.7/dist-packages/pandas/core/generic.py:6619: SettingWithCopyWarning: \n",
            "A value is trying to be set on a copy of a slice from a DataFrame\n",
            "\n",
            "See the caveats in the documentation: https://pandas.pydata.org/pandas-docs/stable/user_guide/indexing.html#returning-a-view-versus-a-copy\n",
            "  return self._update_inplace(result)\n"
          ]
        }
      ]
    },
    {
      "cell_type": "code",
      "source": [
        "df2['famsize'].unique()"
      ],
      "metadata": {
        "colab": {
          "base_uri": "https://localhost:8080/"
        },
        "id": "O3P15t-TSLoj",
        "outputId": "db22c243-5261-4aa4-b846-6a2ca8a177fd"
      },
      "execution_count": null,
      "outputs": [
        {
          "output_type": "execute_result",
          "data": {
            "text/plain": [
              "array(['GT3', 'LE3'], dtype=object)"
            ]
          },
          "metadata": {},
          "execution_count": 14
        }
      ]
    },
    {
      "cell_type": "code",
      "source": [
        "df2['famsize'].replace(['GT3', 'LE3'],\n",
        "                        [0, 1], inplace=True)"
      ],
      "metadata": {
        "id": "w75OG_E0SLqz"
      },
      "execution_count": null,
      "outputs": []
    },
    {
      "cell_type": "code",
      "source": [
        "df2['Pstatus'].unique()"
      ],
      "metadata": {
        "colab": {
          "base_uri": "https://localhost:8080/"
        },
        "id": "lRFWKOo2UoaX",
        "outputId": "52bf51ce-6a82-448e-d6ad-e2c40ae880e1"
      },
      "execution_count": null,
      "outputs": [
        {
          "output_type": "execute_result",
          "data": {
            "text/plain": [
              "array(['A', 'T'], dtype=object)"
            ]
          },
          "metadata": {},
          "execution_count": 16
        }
      ]
    },
    {
      "cell_type": "code",
      "source": [
        "df2['Pstatus'].replace(['A', 'T'],\n",
        "                        [0, 1], inplace=True)"
      ],
      "metadata": {
        "id": "uniVRKFkUocr"
      },
      "execution_count": null,
      "outputs": []
    },
    {
      "cell_type": "code",
      "source": [
        "df2['Mjob'].unique()"
      ],
      "metadata": {
        "colab": {
          "base_uri": "https://localhost:8080/"
        },
        "id": "vnE7YrOkUoe9",
        "outputId": "9a4f271c-a656-4512-c6ed-404164297b1c"
      },
      "execution_count": null,
      "outputs": [
        {
          "output_type": "execute_result",
          "data": {
            "text/plain": [
              "array(['at_home', 'health', 'other', 'services', 'teacher'], dtype=object)"
            ]
          },
          "metadata": {},
          "execution_count": 18
        }
      ]
    },
    {
      "cell_type": "code",
      "source": [
        "df2['Mjob'].replace(['at_home', 'health', 'other', 'services', 'teacher'],\n",
        "                        [0, 1,2,3,4], inplace=True)"
      ],
      "metadata": {
        "id": "CbDTSD-qUohC"
      },
      "execution_count": null,
      "outputs": []
    },
    {
      "cell_type": "code",
      "source": [
        "df2['Fjob'].unique()"
      ],
      "metadata": {
        "colab": {
          "base_uri": "https://localhost:8080/"
        },
        "id": "uRVGkgPkUojK",
        "outputId": "15f37fcd-1a13-4447-fdb7-7c5cc9dfce32"
      },
      "execution_count": null,
      "outputs": [
        {
          "output_type": "execute_result",
          "data": {
            "text/plain": [
              "array(['teacher', 'other', 'services', 'health', 'at_home'], dtype=object)"
            ]
          },
          "metadata": {},
          "execution_count": 20
        }
      ]
    },
    {
      "cell_type": "code",
      "source": [
        "df2['Fjob'].replace(['teacher', 'other', 'services', 'health', 'at_home'],\n",
        "                        [0, 1,2,3,4], inplace=True)"
      ],
      "metadata": {
        "colab": {
          "base_uri": "https://localhost:8080/"
        },
        "id": "9_fn5JhmUolj",
        "outputId": "bfd36dff-394b-4035-b851-50e050024622"
      },
      "execution_count": null,
      "outputs": [
        {
          "output_type": "stream",
          "name": "stderr",
          "text": [
            "/usr/local/lib/python3.7/dist-packages/pandas/core/generic.py:6619: SettingWithCopyWarning: \n",
            "A value is trying to be set on a copy of a slice from a DataFrame\n",
            "\n",
            "See the caveats in the documentation: https://pandas.pydata.org/pandas-docs/stable/user_guide/indexing.html#returning-a-view-versus-a-copy\n",
            "  return self._update_inplace(result)\n"
          ]
        }
      ]
    },
    {
      "cell_type": "code",
      "source": [
        "df2['sex'].unique()"
      ],
      "metadata": {
        "colab": {
          "base_uri": "https://localhost:8080/"
        },
        "id": "ibAjMB0SVMUs",
        "outputId": "0e736eac-c96d-4099-f78b-e00892d36ecb"
      },
      "execution_count": null,
      "outputs": [
        {
          "output_type": "execute_result",
          "data": {
            "text/plain": [
              "array(['F', 'M'], dtype=object)"
            ]
          },
          "metadata": {},
          "execution_count": 22
        }
      ]
    },
    {
      "cell_type": "code",
      "source": [
        "df2['sex'].replace(['F', 'M'],\n",
        "                        [0, 1], inplace=True)"
      ],
      "metadata": {
        "id": "FsGZUsaUVMXa"
      },
      "execution_count": null,
      "outputs": []
    },
    {
      "cell_type": "code",
      "source": [
        "df2.head()"
      ],
      "metadata": {
        "colab": {
          "base_uri": "https://localhost:8080/",
          "height": 206
        },
        "id": "BDbzjdN_VMZo",
        "outputId": "57d34955-0261-4ec0-9021-0e8b64208873"
      },
      "execution_count": null,
      "outputs": [
        {
          "output_type": "execute_result",
          "data": {
            "text/plain": [
              "   school  famsize  Pstatus  Mjob  Fjob  sex\n",
              "0       0        0        0     0     0    0\n",
              "1       0        0        1     0     1    0\n",
              "2       0        1        1     0     1    0\n",
              "3       0        0        1     1     2    0\n",
              "4       0        0        1     2     1    0"
            ],
            "text/html": [
              "\n",
              "  <div id=\"df-7f1f767e-a134-4452-97f1-ab3650b3b6bb\">\n",
              "    <div class=\"colab-df-container\">\n",
              "      <div>\n",
              "<style scoped>\n",
              "    .dataframe tbody tr th:only-of-type {\n",
              "        vertical-align: middle;\n",
              "    }\n",
              "\n",
              "    .dataframe tbody tr th {\n",
              "        vertical-align: top;\n",
              "    }\n",
              "\n",
              "    .dataframe thead th {\n",
              "        text-align: right;\n",
              "    }\n",
              "</style>\n",
              "<table border=\"1\" class=\"dataframe\">\n",
              "  <thead>\n",
              "    <tr style=\"text-align: right;\">\n",
              "      <th></th>\n",
              "      <th>school</th>\n",
              "      <th>famsize</th>\n",
              "      <th>Pstatus</th>\n",
              "      <th>Mjob</th>\n",
              "      <th>Fjob</th>\n",
              "      <th>sex</th>\n",
              "    </tr>\n",
              "  </thead>\n",
              "  <tbody>\n",
              "    <tr>\n",
              "      <th>0</th>\n",
              "      <td>0</td>\n",
              "      <td>0</td>\n",
              "      <td>0</td>\n",
              "      <td>0</td>\n",
              "      <td>0</td>\n",
              "      <td>0</td>\n",
              "    </tr>\n",
              "    <tr>\n",
              "      <th>1</th>\n",
              "      <td>0</td>\n",
              "      <td>0</td>\n",
              "      <td>1</td>\n",
              "      <td>0</td>\n",
              "      <td>1</td>\n",
              "      <td>0</td>\n",
              "    </tr>\n",
              "    <tr>\n",
              "      <th>2</th>\n",
              "      <td>0</td>\n",
              "      <td>1</td>\n",
              "      <td>1</td>\n",
              "      <td>0</td>\n",
              "      <td>1</td>\n",
              "      <td>0</td>\n",
              "    </tr>\n",
              "    <tr>\n",
              "      <th>3</th>\n",
              "      <td>0</td>\n",
              "      <td>0</td>\n",
              "      <td>1</td>\n",
              "      <td>1</td>\n",
              "      <td>2</td>\n",
              "      <td>0</td>\n",
              "    </tr>\n",
              "    <tr>\n",
              "      <th>4</th>\n",
              "      <td>0</td>\n",
              "      <td>0</td>\n",
              "      <td>1</td>\n",
              "      <td>2</td>\n",
              "      <td>1</td>\n",
              "      <td>0</td>\n",
              "    </tr>\n",
              "  </tbody>\n",
              "</table>\n",
              "</div>\n",
              "      <button class=\"colab-df-convert\" onclick=\"convertToInteractive('df-7f1f767e-a134-4452-97f1-ab3650b3b6bb')\"\n",
              "              title=\"Convert this dataframe to an interactive table.\"\n",
              "              style=\"display:none;\">\n",
              "        \n",
              "  <svg xmlns=\"http://www.w3.org/2000/svg\" height=\"24px\"viewBox=\"0 0 24 24\"\n",
              "       width=\"24px\">\n",
              "    <path d=\"M0 0h24v24H0V0z\" fill=\"none\"/>\n",
              "    <path d=\"M18.56 5.44l.94 2.06.94-2.06 2.06-.94-2.06-.94-.94-2.06-.94 2.06-2.06.94zm-11 1L8.5 8.5l.94-2.06 2.06-.94-2.06-.94L8.5 2.5l-.94 2.06-2.06.94zm10 10l.94 2.06.94-2.06 2.06-.94-2.06-.94-.94-2.06-.94 2.06-2.06.94z\"/><path d=\"M17.41 7.96l-1.37-1.37c-.4-.4-.92-.59-1.43-.59-.52 0-1.04.2-1.43.59L10.3 9.45l-7.72 7.72c-.78.78-.78 2.05 0 2.83L4 21.41c.39.39.9.59 1.41.59.51 0 1.02-.2 1.41-.59l7.78-7.78 2.81-2.81c.8-.78.8-2.07 0-2.86zM5.41 20L4 18.59l7.72-7.72 1.47 1.35L5.41 20z\"/>\n",
              "  </svg>\n",
              "      </button>\n",
              "      \n",
              "  <style>\n",
              "    .colab-df-container {\n",
              "      display:flex;\n",
              "      flex-wrap:wrap;\n",
              "      gap: 12px;\n",
              "    }\n",
              "\n",
              "    .colab-df-convert {\n",
              "      background-color: #E8F0FE;\n",
              "      border: none;\n",
              "      border-radius: 50%;\n",
              "      cursor: pointer;\n",
              "      display: none;\n",
              "      fill: #1967D2;\n",
              "      height: 32px;\n",
              "      padding: 0 0 0 0;\n",
              "      width: 32px;\n",
              "    }\n",
              "\n",
              "    .colab-df-convert:hover {\n",
              "      background-color: #E2EBFA;\n",
              "      box-shadow: 0px 1px 2px rgba(60, 64, 67, 0.3), 0px 1px 3px 1px rgba(60, 64, 67, 0.15);\n",
              "      fill: #174EA6;\n",
              "    }\n",
              "\n",
              "    [theme=dark] .colab-df-convert {\n",
              "      background-color: #3B4455;\n",
              "      fill: #D2E3FC;\n",
              "    }\n",
              "\n",
              "    [theme=dark] .colab-df-convert:hover {\n",
              "      background-color: #434B5C;\n",
              "      box-shadow: 0px 1px 3px 1px rgba(0, 0, 0, 0.15);\n",
              "      filter: drop-shadow(0px 1px 2px rgba(0, 0, 0, 0.3));\n",
              "      fill: #FFFFFF;\n",
              "    }\n",
              "  </style>\n",
              "\n",
              "      <script>\n",
              "        const buttonEl =\n",
              "          document.querySelector('#df-7f1f767e-a134-4452-97f1-ab3650b3b6bb button.colab-df-convert');\n",
              "        buttonEl.style.display =\n",
              "          google.colab.kernel.accessAllowed ? 'block' : 'none';\n",
              "\n",
              "        async function convertToInteractive(key) {\n",
              "          const element = document.querySelector('#df-7f1f767e-a134-4452-97f1-ab3650b3b6bb');\n",
              "          const dataTable =\n",
              "            await google.colab.kernel.invokeFunction('convertToInteractive',\n",
              "                                                     [key], {});\n",
              "          if (!dataTable) return;\n",
              "\n",
              "          const docLinkHtml = 'Like what you see? Visit the ' +\n",
              "            '<a target=\"_blank\" href=https://colab.research.google.com/notebooks/data_table.ipynb>data table notebook</a>'\n",
              "            + ' to learn more about interactive tables.';\n",
              "          element.innerHTML = '';\n",
              "          dataTable['output_type'] = 'display_data';\n",
              "          await google.colab.output.renderOutput(dataTable, element);\n",
              "          const docLink = document.createElement('div');\n",
              "          docLink.innerHTML = docLinkHtml;\n",
              "          element.appendChild(docLink);\n",
              "        }\n",
              "      </script>\n",
              "    </div>\n",
              "  </div>\n",
              "  "
            ]
          },
          "metadata": {},
          "execution_count": 26
        }
      ]
    },
    {
      "cell_type": "code",
      "source": [
        "X = df2.iloc[:, :5].values\n",
        "y = df2.iloc[:, -1].values"
      ],
      "metadata": {
        "id": "clrHGeoAVMbx"
      },
      "execution_count": null,
      "outputs": []
    },
    {
      "cell_type": "code",
      "source": [
        "X"
      ],
      "metadata": {
        "colab": {
          "base_uri": "https://localhost:8080/"
        },
        "id": "rw3YjbwVVMeC",
        "outputId": "0eaa161d-19e2-4b88-cca1-6ca39037d718"
      },
      "execution_count": null,
      "outputs": [
        {
          "output_type": "execute_result",
          "data": {
            "text/plain": [
              "array([[0, 0, 0, 0, 0],\n",
              "       [0, 0, 1, 0, 1],\n",
              "       [0, 1, 1, 0, 1],\n",
              "       ...,\n",
              "       [1, 0, 1, 2, 1],\n",
              "       [1, 1, 1, 3, 2],\n",
              "       [1, 1, 1, 3, 1]])"
            ]
          },
          "metadata": {},
          "execution_count": 28
        }
      ]
    },
    {
      "cell_type": "code",
      "source": [
        "y"
      ],
      "metadata": {
        "colab": {
          "base_uri": "https://localhost:8080/"
        },
        "id": "PsGi7bFFVq-t",
        "outputId": "7aada8cb-a5f5-44e9-978f-dac4d3bca9ac"
      },
      "execution_count": null,
      "outputs": [
        {
          "output_type": "execute_result",
          "data": {
            "text/plain": [
              "array([0, 0, 0, 0, 0, 1, 1, 0, 1, 1, 0, 0, 1, 1, 1, 0, 0, 0, 1, 1, 1, 1,\n",
              "       1, 1, 0, 0, 1, 1, 1, 1, 1, 1, 1, 1, 1, 0, 1, 1, 0, 0, 0, 1, 1, 1,\n",
              "       0, 0, 0, 1, 1, 0, 0, 0, 1, 0, 0, 0, 0, 1, 1, 0, 0, 0, 0, 0, 0, 0,\n",
              "       1, 0, 0, 0, 1, 1, 0, 1, 0, 1, 1, 0, 1, 0, 1, 1, 0, 1, 0, 0, 0, 0,\n",
              "       1, 1, 0, 0, 0, 0, 1, 0, 1, 0, 0, 0, 1, 1, 1, 0, 1, 0, 0, 1, 1, 0,\n",
              "       1, 0, 0, 1, 1, 1, 1, 1, 1, 1, 0, 1, 0, 1, 0, 1, 0, 0, 1, 1, 0, 0,\n",
              "       0, 0, 0, 0, 1, 0, 1, 0, 1, 0, 1, 0, 0, 0, 1, 0, 0, 1, 0, 1, 1, 0,\n",
              "       0, 1, 0, 0, 0, 0, 0, 1, 1, 1, 1, 0, 1, 0, 1, 1, 0, 1, 1, 1, 1, 1,\n",
              "       1, 1, 1, 1, 1, 0, 0, 0, 1, 1, 1, 0, 0, 1, 0, 1, 1, 1, 1, 1, 0, 0,\n",
              "       0, 1, 1, 1, 0, 1, 0, 0, 1, 1, 1, 0, 1, 1, 0, 0, 0, 0, 0, 0, 0, 0,\n",
              "       0, 0, 0, 0, 0, 1, 0, 1, 0, 0, 0, 1, 0, 0, 0, 0, 0, 1, 0, 0, 0, 1,\n",
              "       1, 0, 0, 1, 1, 1, 1, 1, 1, 0, 0, 0, 0, 0, 1, 1, 0, 0, 0, 0, 0, 1,\n",
              "       0, 0, 0, 1, 1, 1, 1, 0, 1, 0, 0, 0, 1, 0, 1, 1, 1, 1, 1, 1, 1, 1,\n",
              "       1, 1, 0, 0, 0, 1, 0, 0, 0, 1, 1, 1, 0, 0, 0, 1, 1, 0, 0, 1, 1, 1,\n",
              "       0, 1, 0, 0, 0, 0, 1, 0, 0, 0, 0, 1, 0, 0, 0, 1, 1, 1, 1, 0, 0, 0,\n",
              "       0, 1, 0, 0, 1, 1, 1, 0, 0, 1, 1, 0, 0, 0, 1, 0, 1, 0, 0, 0, 1, 1,\n",
              "       1, 0, 0, 0, 0, 0, 0, 0, 0, 1, 0, 0, 0, 0, 0, 0, 1, 0, 0, 0, 0, 0,\n",
              "       0, 0, 0, 1, 1, 1, 0, 0, 0, 1, 1, 0, 0, 1, 0, 0, 0, 0, 0, 0, 0, 1,\n",
              "       1, 0, 0, 0, 1, 1, 0, 0, 0, 0, 0, 0, 1, 1, 0, 1, 0, 1, 0, 0, 1, 0,\n",
              "       1, 1, 0, 0, 0, 0, 0, 0, 0, 0, 0, 1, 1, 0, 0, 0, 0, 0, 0, 0, 0, 0,\n",
              "       1, 1, 1, 1, 1, 1, 1, 1, 0, 0, 0, 1, 0, 0, 0, 0, 0, 1, 0, 0, 0, 0,\n",
              "       0, 0, 1, 0, 1, 0, 1, 1, 0, 0, 0, 1, 1, 0, 0, 1, 0, 0, 0, 0, 0, 0,\n",
              "       0, 0, 0, 0, 0, 1, 0, 0, 0, 0, 0, 0, 0, 1, 0, 0, 1, 1, 1, 0, 0, 0,\n",
              "       0, 0, 1, 0, 0, 0, 0, 0, 0, 0, 0, 0, 0, 1, 0, 0, 0, 1, 0, 1, 0, 1,\n",
              "       0, 0, 1, 1, 1, 0, 1, 1, 1, 1, 0, 0, 0, 0, 0, 1, 1, 1, 0, 1, 0, 0,\n",
              "       1, 1, 1, 1, 0, 0, 1, 0, 1, 1, 1, 1, 0, 1, 1, 1, 1, 1, 1, 1, 1, 1,\n",
              "       0, 0, 1, 0, 1, 1, 1, 1, 1, 0, 0, 0, 0, 0, 0, 0, 0, 0, 0, 0, 0, 0,\n",
              "       0, 1, 0, 0, 1, 1, 1, 0, 0, 0, 0, 0, 0, 0, 0, 0, 0, 0, 1, 0, 0, 0,\n",
              "       1, 0, 0, 0, 0, 0, 1, 1, 0, 0, 0, 1, 0, 0, 0, 0, 0, 0, 0, 0, 1, 1,\n",
              "       1, 1, 1, 0, 0, 0, 0, 0, 0, 1, 1])"
            ]
          },
          "metadata": {},
          "execution_count": 29
        }
      ]
    },
    {
      "cell_type": "code",
      "source": [
        "from sklearn.model_selection import train_test_split\n",
        "X_trainset, X_testset, y_trainset, y_testset = train_test_split(X, y, test_size=0.3, random_state=3)"
      ],
      "metadata": {
        "id": "DHS80jyNVrBT"
      },
      "execution_count": null,
      "outputs": []
    },
    {
      "cell_type": "code",
      "source": [
        "from sklearn.tree import DecisionTreeClassifier\n",
        "drugTree = DecisionTreeClassifier(criterion=\"entropy\", max_depth = 4)\n",
        "drugTree # it shows the default parameters"
      ],
      "metadata": {
        "colab": {
          "base_uri": "https://localhost:8080/"
        },
        "id": "1YXEruagVrDL",
        "outputId": "f90e5257-344e-4994-e52f-ada1c3eb00aa"
      },
      "execution_count": null,
      "outputs": [
        {
          "output_type": "execute_result",
          "data": {
            "text/plain": [
              "DecisionTreeClassifier(criterion='entropy', max_depth=4)"
            ]
          },
          "metadata": {},
          "execution_count": 31
        }
      ]
    },
    {
      "cell_type": "code",
      "source": [
        "drugTree.fit(X_trainset,y_trainset)"
      ],
      "metadata": {
        "colab": {
          "base_uri": "https://localhost:8080/"
        },
        "id": "qfrtgXPtVrFk",
        "outputId": "003930d5-216e-42ea-92e0-6c963fb258af"
      },
      "execution_count": null,
      "outputs": [
        {
          "output_type": "execute_result",
          "data": {
            "text/plain": [
              "DecisionTreeClassifier(criterion='entropy', max_depth=4)"
            ]
          },
          "metadata": {},
          "execution_count": 32
        }
      ]
    },
    {
      "cell_type": "code",
      "source": [
        "predTree = drugTree.predict(X_testset)\n",
        "predTree"
      ],
      "metadata": {
        "colab": {
          "base_uri": "https://localhost:8080/"
        },
        "id": "MMHsKSx-VrHk",
        "outputId": "ccd7015f-d5c3-4b1a-b651-8fb010551e70"
      },
      "execution_count": null,
      "outputs": [
        {
          "output_type": "execute_result",
          "data": {
            "text/plain": [
              "array([0, 0, 0, 0, 0, 0, 1, 0, 0, 0, 0, 0, 0, 0, 1, 0, 0, 0, 0, 1, 0, 0,\n",
              "       1, 1, 1, 0, 0, 0, 0, 0, 0, 1, 0, 1, 0, 1, 0, 1, 0, 0, 0, 1, 0, 0,\n",
              "       1, 0, 0, 1, 0, 1, 1, 0, 0, 0, 1, 0, 0, 0, 0, 1, 0, 0, 1, 0, 1, 0,\n",
              "       0, 0, 0, 0, 0, 0, 0, 0, 0, 0, 0, 0, 0, 0, 0, 0, 0, 0, 0, 0, 0, 1,\n",
              "       1, 1, 0, 0, 0, 0, 1, 0, 0, 0, 0, 0, 0, 0, 0, 0, 0, 0, 0, 0, 1, 0,\n",
              "       0, 0, 0, 0, 0, 0, 0, 0, 0, 0, 1, 0, 1, 1, 0, 0, 0, 0, 0, 0, 0, 0,\n",
              "       0, 0, 0, 1, 0, 0, 0, 0, 0, 0, 0, 1, 0, 0, 0, 0, 0, 1, 1, 0, 1, 0,\n",
              "       0, 1, 0, 0, 0, 1, 0, 0, 0, 0, 0, 1, 0, 0, 0, 1, 0, 1, 0, 0, 0, 1,\n",
              "       0, 0, 0, 0, 0, 0, 0, 1, 0, 1, 1, 0, 1, 0, 0, 0, 1, 1, 0])"
            ]
          },
          "metadata": {},
          "execution_count": 33
        }
      ]
    },
    {
      "cell_type": "code",
      "source": [
        "print (predTree [0:10])\n",
        "print (y_testset [0:10])"
      ],
      "metadata": {
        "colab": {
          "base_uri": "https://localhost:8080/"
        },
        "id": "OqUJKx6BVrJu",
        "outputId": "a8a43877-8b0e-4f66-f18f-b9e82326e06f"
      },
      "execution_count": null,
      "outputs": [
        {
          "output_type": "stream",
          "name": "stdout",
          "text": [
            "[0 0 0 0 0 0 1 0 0 0]\n",
            "[0 1 0 1 0 1 0 0 1 0]\n"
          ]
        }
      ]
    },
    {
      "cell_type": "code",
      "source": [
        "from sklearn import metrics\n",
        "import matplotlib.pyplot as plt\n",
        "print(\"DecisionTrees's Accuracy: \", metrics.accuracy_score(y_testset, predTree))\n"
      ],
      "metadata": {
        "colab": {
          "base_uri": "https://localhost:8080/"
        },
        "id": "Zt9k9dvtVrLp",
        "outputId": "f347a02e-bf77-4514-90a3-7049ec4e5327"
      },
      "execution_count": null,
      "outputs": [
        {
          "output_type": "stream",
          "name": "stdout",
          "text": [
            "DecisionTrees's Accuracy:  0.5641025641025641\n"
          ]
        }
      ]
    },
    {
      "cell_type": "code",
      "source": [
        "from six import StringIO\n",
        "import pydotplus\n",
        "import matplotlib.image as mpimg\n",
        "from sklearn import tree\n",
        "%matplotlib inline \n"
      ],
      "metadata": {
        "id": "Rx_SSYaGVrN8"
      },
      "execution_count": null,
      "outputs": []
    },
    {
      "cell_type": "code",
      "source": [
        "from sklearn import tree\n",
        "\n",
        "from sklearn.tree import DecisionTreeClassifier\n",
        "dtree= DecisionTreeClassifier(criterion = 'entropy')\n",
        "dtree.fit(X_trainset,y_trainset)\n",
        "predictions= dtree.predict(X_testset)\n",
        "from sklearn.metrics import classification_report, confusion_matrix\n",
        "\n",
        "print(confusion_matrix(y_testset,predictions))\n",
        "print('\\n')\n",
        "print(classification_report(y_testset,predictions))\n",
        "tree.plot_tree(dtree)"
      ],
      "metadata": {
        "colab": {
          "base_uri": "https://localhost:8080/",
          "height": 1000
        },
        "id": "hJ_cAF7IVMft",
        "outputId": "3e23e1ee-60b2-4a39-e49a-8202b1a89e1e"
      },
      "execution_count": null,
      "outputs": [
        {
          "output_type": "stream",
          "name": "stdout",
          "text": [
            "[[98 22]\n",
            " [58 17]]\n",
            "\n",
            "\n",
            "              precision    recall  f1-score   support\n",
            "\n",
            "           0       0.63      0.82      0.71       120\n",
            "           1       0.44      0.23      0.30        75\n",
            "\n",
            "    accuracy                           0.59       195\n",
            "   macro avg       0.53      0.52      0.50       195\n",
            "weighted avg       0.55      0.59      0.55       195\n",
            "\n"
          ]
        },
        {
          "output_type": "execute_result",
          "data": {
            "text/plain": [
              "[Text(0.3555042613636364, 0.9545454545454546, 'X[3] <= 0.5\\nentropy = 0.982\\nsamples = 454\\nvalue = [263, 191]'),\n",
              " Text(0.09545454545454546, 0.8636363636363636, 'X[2] <= 0.5\\nentropy = 0.869\\nsamples = 93\\nvalue = [66, 27]'),\n",
              " Text(0.08636363636363636, 0.7727272727272727, 'entropy = 0.0\\nsamples = 10\\nvalue = [10, 0]'),\n",
              " Text(0.10454545454545454, 0.7727272727272727, 'X[1] <= 0.5\\nentropy = 0.91\\nsamples = 83\\nvalue = [56, 27]'),\n",
              " Text(0.05, 0.6818181818181818, 'X[4] <= 0.5\\nentropy = 0.837\\nsamples = 60\\nvalue = [44, 16]'),\n",
              " Text(0.04090909090909091, 0.5909090909090909, 'entropy = 0.0\\nsamples = 1\\nvalue = [0, 1]'),\n",
              " Text(0.05909090909090909, 0.5909090909090909, 'X[4] <= 3.5\\nentropy = 0.818\\nsamples = 59\\nvalue = [44, 15]'),\n",
              " Text(0.03636363636363636, 0.5, 'X[4] <= 1.5\\nentropy = 0.772\\nsamples = 53\\nvalue = [41, 12]'),\n",
              " Text(0.01818181818181818, 0.4090909090909091, 'X[0] <= 0.5\\nentropy = 0.711\\nsamples = 36\\nvalue = [29, 7]'),\n",
              " Text(0.00909090909090909, 0.3181818181818182, 'entropy = 0.874\\nsamples = 17\\nvalue = [12, 5]'),\n",
              " Text(0.02727272727272727, 0.3181818181818182, 'entropy = 0.485\\nsamples = 19\\nvalue = [17, 2]'),\n",
              " Text(0.05454545454545454, 0.4090909090909091, 'X[0] <= 0.5\\nentropy = 0.874\\nsamples = 17\\nvalue = [12, 5]'),\n",
              " Text(0.045454545454545456, 0.3181818181818182, 'X[4] <= 2.5\\nentropy = 0.503\\nsamples = 9\\nvalue = [8, 1]'),\n",
              " Text(0.03636363636363636, 0.22727272727272727, 'entropy = 0.544\\nsamples = 8\\nvalue = [7, 1]'),\n",
              " Text(0.05454545454545454, 0.22727272727272727, 'entropy = 0.0\\nsamples = 1\\nvalue = [1, 0]'),\n",
              " Text(0.06363636363636363, 0.3181818181818182, 'entropy = 1.0\\nsamples = 8\\nvalue = [4, 4]'),\n",
              " Text(0.08181818181818182, 0.5, 'X[0] <= 0.5\\nentropy = 1.0\\nsamples = 6\\nvalue = [3, 3]'),\n",
              " Text(0.07272727272727272, 0.4090909090909091, 'entropy = 1.0\\nsamples = 2\\nvalue = [1, 1]'),\n",
              " Text(0.09090909090909091, 0.4090909090909091, 'entropy = 1.0\\nsamples = 4\\nvalue = [2, 2]'),\n",
              " Text(0.1590909090909091, 0.6818181818181818, 'X[4] <= 3.5\\nentropy = 0.999\\nsamples = 23\\nvalue = [12, 11]'),\n",
              " Text(0.13636363636363635, 0.5909090909090909, 'X[4] <= 1.5\\nentropy = 0.991\\nsamples = 18\\nvalue = [8, 10]'),\n",
              " Text(0.11818181818181818, 0.5, 'X[0] <= 0.5\\nentropy = 0.996\\nsamples = 13\\nvalue = [7, 6]'),\n",
              " Text(0.10909090909090909, 0.4090909090909091, 'entropy = 0.985\\nsamples = 7\\nvalue = [3, 4]'),\n",
              " Text(0.12727272727272726, 0.4090909090909091, 'entropy = 0.918\\nsamples = 6\\nvalue = [4, 2]'),\n",
              " Text(0.15454545454545454, 0.5, 'X[4] <= 2.5\\nentropy = 0.722\\nsamples = 5\\nvalue = [1, 4]'),\n",
              " Text(0.14545454545454545, 0.4090909090909091, 'entropy = 0.811\\nsamples = 4\\nvalue = [1, 3]'),\n",
              " Text(0.16363636363636364, 0.4090909090909091, 'entropy = 0.0\\nsamples = 1\\nvalue = [0, 1]'),\n",
              " Text(0.18181818181818182, 0.5909090909090909, 'X[0] <= 0.5\\nentropy = 0.722\\nsamples = 5\\nvalue = [4, 1]'),\n",
              " Text(0.17272727272727273, 0.5, 'entropy = 0.0\\nsamples = 3\\nvalue = [3, 0]'),\n",
              " Text(0.19090909090909092, 0.5, 'entropy = 1.0\\nsamples = 2\\nvalue = [1, 1]'),\n",
              " Text(0.6155539772727273, 0.8636363636363636, 'X[1] <= 0.5\\nentropy = 0.994\\nsamples = 361\\nvalue = [197, 164]'),\n",
              " Text(0.3555397727272727, 0.7727272727272727, 'X[2] <= 0.5\\nentropy = 0.98\\nsamples = 250\\nvalue = [146, 104]'),\n",
              " Text(0.23636363636363636, 0.6818181818181818, 'X[0] <= 0.5\\nentropy = 0.65\\nsamples = 18\\nvalue = [15, 3]'),\n",
              " Text(0.21818181818181817, 0.5909090909090909, 'X[4] <= 0.5\\nentropy = 0.567\\nsamples = 15\\nvalue = [13, 2]'),\n",
              " Text(0.20909090909090908, 0.5, 'entropy = 0.0\\nsamples = 1\\nvalue = [1, 0]'),\n",
              " Text(0.22727272727272727, 0.5, 'X[3] <= 1.5\\nentropy = 0.592\\nsamples = 14\\nvalue = [12, 2]'),\n",
              " Text(0.21818181818181817, 0.4090909090909091, 'entropy = 0.0\\nsamples = 1\\nvalue = [1, 0]'),\n",
              " Text(0.23636363636363636, 0.4090909090909091, 'X[3] <= 2.5\\nentropy = 0.619\\nsamples = 13\\nvalue = [11, 2]'),\n",
              " Text(0.21818181818181817, 0.3181818181818182, 'X[4] <= 1.5\\nentropy = 0.592\\nsamples = 7\\nvalue = [6, 1]'),\n",
              " Text(0.20909090909090908, 0.22727272727272727, 'entropy = 0.0\\nsamples = 4\\nvalue = [4, 0]'),\n",
              " Text(0.22727272727272727, 0.22727272727272727, 'entropy = 0.918\\nsamples = 3\\nvalue = [2, 1]'),\n",
              " Text(0.2545454545454545, 0.3181818181818182, 'X[4] <= 1.5\\nentropy = 0.65\\nsamples = 6\\nvalue = [5, 1]'),\n",
              " Text(0.24545454545454545, 0.22727272727272727, 'entropy = 0.918\\nsamples = 3\\nvalue = [2, 1]'),\n",
              " Text(0.2636363636363636, 0.22727272727272727, 'entropy = 0.0\\nsamples = 3\\nvalue = [3, 0]'),\n",
              " Text(0.2545454545454545, 0.5909090909090909, 'X[4] <= 1.5\\nentropy = 0.918\\nsamples = 3\\nvalue = [2, 1]'),\n",
              " Text(0.24545454545454545, 0.5, 'entropy = 1.0\\nsamples = 2\\nvalue = [1, 1]'),\n",
              " Text(0.2636363636363636, 0.5, 'entropy = 0.0\\nsamples = 1\\nvalue = [1, 0]'),\n",
              " Text(0.4747159090909091, 0.6818181818181818, 'X[4] <= 2.5\\nentropy = 0.988\\nsamples = 232\\nvalue = [131, 101]'),\n",
              " Text(0.3971590909090909, 0.5909090909090909, 'X[4] <= 1.5\\nentropy = 0.992\\nsamples = 213\\nvalue = [118, 95]'),\n",
              " Text(0.3170454545454545, 0.5, 'X[4] <= 0.5\\nentropy = 0.98\\nsamples = 151\\nvalue = [88, 63]'),\n",
              " Text(0.2818181818181818, 0.4090909090909091, 'X[3] <= 2.5\\nentropy = 0.918\\nsamples = 18\\nvalue = [12, 6]'),\n",
              " Text(0.2727272727272727, 0.3181818181818182, 'entropy = 0.0\\nsamples = 5\\nvalue = [5, 0]'),\n",
              " Text(0.2909090909090909, 0.3181818181818182, 'X[0] <= 0.5\\nentropy = 0.996\\nsamples = 13\\nvalue = [7, 6]'),\n",
              " Text(0.2818181818181818, 0.22727272727272727, 'X[3] <= 3.5\\nentropy = 0.994\\nsamples = 11\\nvalue = [5, 6]'),\n",
              " Text(0.2727272727272727, 0.13636363636363635, 'entropy = 0.811\\nsamples = 4\\nvalue = [3, 1]'),\n",
              " Text(0.2909090909090909, 0.13636363636363635, 'entropy = 0.863\\nsamples = 7\\nvalue = [2, 5]'),\n",
              " Text(0.3, 0.22727272727272727, 'entropy = 0.0\\nsamples = 2\\nvalue = [2, 0]'),\n",
              " Text(0.3522727272727273, 0.4090909090909091, 'X[3] <= 1.5\\nentropy = 0.985\\nsamples = 133\\nvalue = [76, 57]'),\n",
              " Text(0.32727272727272727, 0.3181818181818182, 'X[0] <= 0.5\\nentropy = 0.918\\nsamples = 6\\nvalue = [2, 4]'),\n",
              " Text(0.3181818181818182, 0.22727272727272727, 'entropy = 1.0\\nsamples = 4\\nvalue = [2, 2]'),\n",
              " Text(0.33636363636363636, 0.22727272727272727, 'entropy = 0.0\\nsamples = 2\\nvalue = [0, 2]'),\n",
              " Text(0.37727272727272726, 0.3181818181818182, 'X[3] <= 2.5\\nentropy = 0.98\\nsamples = 127\\nvalue = [74, 53]'),\n",
              " Text(0.35454545454545455, 0.22727272727272727, 'X[0] <= 0.5\\nentropy = 0.971\\nsamples = 90\\nvalue = [54, 36]'),\n",
              " Text(0.34545454545454546, 0.13636363636363635, 'entropy = 0.975\\nsamples = 54\\nvalue = [32, 22]'),\n",
              " Text(0.36363636363636365, 0.13636363636363635, 'entropy = 0.964\\nsamples = 36\\nvalue = [22, 14]'),\n",
              " Text(0.4, 0.22727272727272727, 'X[0] <= 0.5\\nentropy = 0.995\\nsamples = 37\\nvalue = [20, 17]'),\n",
              " Text(0.38181818181818183, 0.13636363636363635, 'X[3] <= 3.5\\nentropy = 1.0\\nsamples = 26\\nvalue = [13, 13]'),\n",
              " Text(0.37272727272727274, 0.045454545454545456, 'entropy = 0.997\\nsamples = 15\\nvalue = [8, 7]'),\n",
              " Text(0.39090909090909093, 0.045454545454545456, 'entropy = 0.994\\nsamples = 11\\nvalue = [5, 6]'),\n",
              " Text(0.41818181818181815, 0.13636363636363635, 'X[3] <= 3.5\\nentropy = 0.946\\nsamples = 11\\nvalue = [7, 4]'),\n",
              " Text(0.4090909090909091, 0.045454545454545456, 'entropy = 1.0\\nsamples = 8\\nvalue = [4, 4]'),\n",
              " Text(0.42727272727272725, 0.045454545454545456, 'entropy = 0.0\\nsamples = 3\\nvalue = [3, 0]'),\n",
              " Text(0.4772727272727273, 0.5, 'X[3] <= 3.5\\nentropy = 0.999\\nsamples = 62\\nvalue = [30, 32]'),\n",
              " Text(0.45454545454545453, 0.4090909090909091, 'X[0] <= 0.5\\nentropy = 0.996\\nsamples = 54\\nvalue = [25, 29]'),\n",
              " Text(0.43636363636363634, 0.3181818181818182, 'X[3] <= 1.5\\nentropy = 1.0\\nsamples = 36\\nvalue = [18, 18]'),\n",
              " Text(0.42727272727272725, 0.22727272727272727, 'entropy = 0.985\\nsamples = 7\\nvalue = [4, 3]'),\n",
              " Text(0.44545454545454544, 0.22727272727272727, 'X[3] <= 2.5\\nentropy = 0.999\\nsamples = 29\\nvalue = [14, 15]'),\n",
              " Text(0.43636363636363634, 0.13636363636363635, 'entropy = 0.994\\nsamples = 11\\nvalue = [5, 6]'),\n",
              " Text(0.45454545454545453, 0.13636363636363635, 'entropy = 1.0\\nsamples = 18\\nvalue = [9, 9]'),\n",
              " Text(0.4727272727272727, 0.3181818181818182, 'X[3] <= 1.5\\nentropy = 0.964\\nsamples = 18\\nvalue = [7, 11]'),\n",
              " Text(0.4636363636363636, 0.22727272727272727, 'entropy = 0.0\\nsamples = 1\\nvalue = [0, 1]'),\n",
              " Text(0.4818181818181818, 0.22727272727272727, 'X[3] <= 2.5\\nentropy = 0.977\\nsamples = 17\\nvalue = [7, 10]'),\n",
              " Text(0.4727272727272727, 0.13636363636363635, 'entropy = 0.985\\nsamples = 14\\nvalue = [6, 8]'),\n",
              " Text(0.4909090909090909, 0.13636363636363635, 'entropy = 0.918\\nsamples = 3\\nvalue = [1, 2]'),\n",
              " Text(0.5, 0.4090909090909091, 'X[0] <= 0.5\\nentropy = 0.954\\nsamples = 8\\nvalue = [5, 3]'),\n",
              " Text(0.4909090909090909, 0.3181818181818182, 'entropy = 0.985\\nsamples = 7\\nvalue = [4, 3]'),\n",
              " Text(0.509090909090909, 0.3181818181818182, 'entropy = 0.0\\nsamples = 1\\nvalue = [1, 0]'),\n",
              " Text(0.5522727272727272, 0.5909090909090909, 'X[3] <= 1.5\\nentropy = 0.9\\nsamples = 19\\nvalue = [13, 6]'),\n",
              " Text(0.5272727272727272, 0.5, 'X[0] <= 0.5\\nentropy = 0.722\\nsamples = 5\\nvalue = [4, 1]'),\n",
              " Text(0.5181818181818182, 0.4090909090909091, 'entropy = 0.811\\nsamples = 4\\nvalue = [3, 1]'),\n",
              " Text(0.5363636363636364, 0.4090909090909091, 'entropy = 0.0\\nsamples = 1\\nvalue = [1, 0]'),\n",
              " Text(0.5772727272727273, 0.5, 'X[4] <= 3.5\\nentropy = 0.94\\nsamples = 14\\nvalue = [9, 5]'),\n",
              " Text(0.5545454545454546, 0.4090909090909091, 'X[0] <= 0.5\\nentropy = 0.811\\nsamples = 4\\nvalue = [3, 1]'),\n",
              " Text(0.5454545454545454, 0.3181818181818182, 'entropy = 0.0\\nsamples = 3\\nvalue = [3, 0]'),\n",
              " Text(0.5636363636363636, 0.3181818181818182, 'entropy = 0.0\\nsamples = 1\\nvalue = [0, 1]'),\n",
              " Text(0.6, 0.4090909090909091, 'X[0] <= 0.5\\nentropy = 0.971\\nsamples = 10\\nvalue = [6, 4]'),\n",
              " Text(0.5818181818181818, 0.3181818181818182, 'X[3] <= 3.5\\nentropy = 0.971\\nsamples = 5\\nvalue = [2, 3]'),\n",
              " Text(0.5727272727272728, 0.22727272727272727, 'X[3] <= 2.5\\nentropy = 1.0\\nsamples = 4\\nvalue = [2, 2]'),\n",
              " Text(0.5636363636363636, 0.13636363636363635, 'entropy = 1.0\\nsamples = 2\\nvalue = [1, 1]'),\n",
              " Text(0.5818181818181818, 0.13636363636363635, 'entropy = 1.0\\nsamples = 2\\nvalue = [1, 1]'),\n",
              " Text(0.5909090909090909, 0.22727272727272727, 'entropy = 0.0\\nsamples = 1\\nvalue = [0, 1]'),\n",
              " Text(0.6181818181818182, 0.3181818181818182, 'X[3] <= 2.5\\nentropy = 0.722\\nsamples = 5\\nvalue = [4, 1]'),\n",
              " Text(0.6090909090909091, 0.22727272727272727, 'entropy = 0.0\\nsamples = 2\\nvalue = [2, 0]'),\n",
              " Text(0.6272727272727273, 0.22727272727272727, 'X[3] <= 3.5\\nentropy = 0.918\\nsamples = 3\\nvalue = [2, 1]'),\n",
              " Text(0.6181818181818182, 0.13636363636363635, 'entropy = 1.0\\nsamples = 2\\nvalue = [1, 1]'),\n",
              " Text(0.6363636363636364, 0.13636363636363635, 'entropy = 0.0\\nsamples = 1\\nvalue = [1, 0]'),\n",
              " Text(0.8755681818181819, 0.7727272727272727, 'X[0] <= 0.5\\nentropy = 0.995\\nsamples = 111\\nvalue = [51, 60]'),\n",
              " Text(0.8147727272727273, 0.6818181818181818, 'X[3] <= 3.5\\nentropy = 0.977\\nsamples = 78\\nvalue = [32, 46]'),\n",
              " Text(0.7613636363636364, 0.5909090909090909, 'X[3] <= 2.5\\nentropy = 0.993\\nsamples = 60\\nvalue = [27, 33]'),\n",
              " Text(0.7227272727272728, 0.5, 'X[4] <= 3.5\\nentropy = 0.999\\nsamples = 37\\nvalue = [18, 19]'),\n",
              " Text(0.7136363636363636, 0.4090909090909091, 'X[3] <= 1.5\\nentropy = 0.998\\nsamples = 36\\nvalue = [17, 19]'),\n",
              " Text(0.6818181818181818, 0.3181818181818182, 'X[4] <= 2.5\\nentropy = 0.946\\nsamples = 11\\nvalue = [4, 7]'),\n",
              " Text(0.6636363636363637, 0.22727272727272727, 'X[2] <= 0.5\\nentropy = 0.918\\nsamples = 9\\nvalue = [3, 6]'),\n",
              " Text(0.6545454545454545, 0.13636363636363635, 'entropy = 1.0\\nsamples = 2\\nvalue = [1, 1]'),\n",
              " Text(0.6727272727272727, 0.13636363636363635, 'X[4] <= 1.5\\nentropy = 0.863\\nsamples = 7\\nvalue = [2, 5]'),\n",
              " Text(0.6636363636363637, 0.045454545454545456, 'entropy = 0.811\\nsamples = 4\\nvalue = [1, 3]'),\n",
              " Text(0.6818181818181818, 0.045454545454545456, 'entropy = 0.918\\nsamples = 3\\nvalue = [1, 2]'),\n",
              " Text(0.7, 0.22727272727272727, 'X[2] <= 0.5\\nentropy = 1.0\\nsamples = 2\\nvalue = [1, 1]'),\n",
              " Text(0.6909090909090909, 0.13636363636363635, 'entropy = 0.0\\nsamples = 1\\nvalue = [0, 1]'),\n",
              " Text(0.7090909090909091, 0.13636363636363635, 'entropy = 0.0\\nsamples = 1\\nvalue = [1, 0]'),\n",
              " Text(0.7454545454545455, 0.3181818181818182, 'X[4] <= 2.5\\nentropy = 0.999\\nsamples = 25\\nvalue = [13, 12]'),\n",
              " Text(0.7363636363636363, 0.22727272727272727, 'X[2] <= 0.5\\nentropy = 1.0\\nsamples = 24\\nvalue = [12, 12]'),\n",
              " Text(0.7272727272727273, 0.13636363636363635, 'entropy = 0.811\\nsamples = 4\\nvalue = [3, 1]'),\n",
              " Text(0.7454545454545455, 0.13636363636363635, 'X[4] <= 1.5\\nentropy = 0.993\\nsamples = 20\\nvalue = [9, 11]'),\n",
              " Text(0.7363636363636363, 0.045454545454545456, 'entropy = 0.998\\nsamples = 17\\nvalue = [8, 9]'),\n",
              " Text(0.7545454545454545, 0.045454545454545456, 'entropy = 0.918\\nsamples = 3\\nvalue = [1, 2]'),\n",
              " Text(0.7545454545454545, 0.22727272727272727, 'entropy = 0.0\\nsamples = 1\\nvalue = [1, 0]'),\n",
              " Text(0.7318181818181818, 0.4090909090909091, 'entropy = 0.0\\nsamples = 1\\nvalue = [1, 0]'),\n",
              " Text(0.8, 0.5, 'X[4] <= 2.5\\nentropy = 0.966\\nsamples = 23\\nvalue = [9, 14]'),\n",
              " Text(0.7909090909090909, 0.4090909090909091, 'X[4] <= 1.5\\nentropy = 0.993\\nsamples = 20\\nvalue = [9, 11]'),\n",
              " Text(0.7818181818181819, 0.3181818181818182, 'X[2] <= 0.5\\nentropy = 0.98\\nsamples = 12\\nvalue = [5, 7]'),\n",
              " Text(0.7727272727272727, 0.22727272727272727, 'entropy = 1.0\\nsamples = 4\\nvalue = [2, 2]'),\n",
              " Text(0.7909090909090909, 0.22727272727272727, 'entropy = 0.954\\nsamples = 8\\nvalue = [3, 5]'),\n",
              " Text(0.8, 0.3181818181818182, 'entropy = 1.0\\nsamples = 8\\nvalue = [4, 4]'),\n",
              " Text(0.8090909090909091, 0.4090909090909091, 'entropy = 0.0\\nsamples = 3\\nvalue = [0, 3]'),\n",
              " Text(0.8681818181818182, 0.5909090909090909, 'X[4] <= 2.5\\nentropy = 0.852\\nsamples = 18\\nvalue = [5, 13]'),\n",
              " Text(0.8590909090909091, 0.5, 'X[4] <= 1.5\\nentropy = 0.874\\nsamples = 17\\nvalue = [5, 12]'),\n",
              " Text(0.8363636363636363, 0.4090909090909091, 'X[2] <= 0.5\\nentropy = 0.811\\nsamples = 12\\nvalue = [3, 9]'),\n",
              " Text(0.8181818181818182, 0.3181818181818182, 'X[4] <= 0.5\\nentropy = 0.811\\nsamples = 4\\nvalue = [1, 3]'),\n",
              " Text(0.8090909090909091, 0.22727272727272727, 'entropy = 0.0\\nsamples = 2\\nvalue = [0, 2]'),\n",
              " Text(0.8272727272727273, 0.22727272727272727, 'entropy = 1.0\\nsamples = 2\\nvalue = [1, 1]'),\n",
              " Text(0.8545454545454545, 0.3181818181818182, 'X[4] <= 0.5\\nentropy = 0.811\\nsamples = 8\\nvalue = [2, 6]'),\n",
              " Text(0.8454545454545455, 0.22727272727272727, 'entropy = 1.0\\nsamples = 2\\nvalue = [1, 1]'),\n",
              " Text(0.8636363636363636, 0.22727272727272727, 'entropy = 0.65\\nsamples = 6\\nvalue = [1, 5]'),\n",
              " Text(0.8818181818181818, 0.4090909090909091, 'X[2] <= 0.5\\nentropy = 0.971\\nsamples = 5\\nvalue = [2, 3]'),\n",
              " Text(0.8727272727272727, 0.3181818181818182, 'entropy = 0.0\\nsamples = 1\\nvalue = [0, 1]'),\n",
              " Text(0.8909090909090909, 0.3181818181818182, 'entropy = 1.0\\nsamples = 4\\nvalue = [2, 2]'),\n",
              " Text(0.8772727272727273, 0.5, 'entropy = 0.0\\nsamples = 1\\nvalue = [0, 1]'),\n",
              " Text(0.9363636363636364, 0.6818181818181818, 'X[4] <= 1.5\\nentropy = 0.983\\nsamples = 33\\nvalue = [19, 14]'),\n",
              " Text(0.9181818181818182, 0.5909090909090909, 'X[3] <= 2.5\\nentropy = 0.75\\nsamples = 14\\nvalue = [11, 3]'),\n",
              " Text(0.9090909090909091, 0.5, 'X[2] <= 0.5\\nentropy = 0.845\\nsamples = 11\\nvalue = [8, 3]'),\n",
              " Text(0.9, 0.4090909090909091, 'entropy = 0.918\\nsamples = 3\\nvalue = [2, 1]'),\n",
              " Text(0.9181818181818182, 0.4090909090909091, 'entropy = 0.811\\nsamples = 8\\nvalue = [6, 2]'),\n",
              " Text(0.9272727272727272, 0.5, 'entropy = 0.0\\nsamples = 3\\nvalue = [3, 0]'),\n",
              " Text(0.9545454545454546, 0.5909090909090909, 'X[2] <= 0.5\\nentropy = 0.982\\nsamples = 19\\nvalue = [8, 11]'),\n",
              " Text(0.9454545454545454, 0.5, 'entropy = 0.0\\nsamples = 2\\nvalue = [0, 2]'),\n",
              " Text(0.9636363636363636, 0.5, 'X[4] <= 2.5\\nentropy = 0.998\\nsamples = 17\\nvalue = [8, 9]'),\n",
              " Text(0.9454545454545454, 0.4090909090909091, 'X[3] <= 2.5\\nentropy = 0.996\\nsamples = 13\\nvalue = [7, 6]'),\n",
              " Text(0.9363636363636364, 0.3181818181818182, 'entropy = 0.971\\nsamples = 5\\nvalue = [3, 2]'),\n",
              " Text(0.9545454545454546, 0.3181818181818182, 'X[3] <= 3.5\\nentropy = 1.0\\nsamples = 8\\nvalue = [4, 4]'),\n",
              " Text(0.9454545454545454, 0.22727272727272727, 'entropy = 1.0\\nsamples = 6\\nvalue = [3, 3]'),\n",
              " Text(0.9636363636363636, 0.22727272727272727, 'entropy = 1.0\\nsamples = 2\\nvalue = [1, 1]'),\n",
              " Text(0.9818181818181818, 0.4090909090909091, 'X[4] <= 3.5\\nentropy = 0.811\\nsamples = 4\\nvalue = [1, 3]'),\n",
              " Text(0.9727272727272728, 0.3181818181818182, 'entropy = 0.0\\nsamples = 1\\nvalue = [0, 1]'),\n",
              " Text(0.990909090909091, 0.3181818181818182, 'entropy = 0.918\\nsamples = 3\\nvalue = [1, 2]')]"
            ]
          },
          "metadata": {},
          "execution_count": 37
        },
        {
          "output_type": "display_data",
          "data": {
            "text/plain": [
              "<Figure size 432x288 with 1 Axes>"
            ],
            "image/png": "[encoded data removed]"
          },
          "metadata": {
            "needs_background": "light"
          }
        }
      ]
    },
    {
      "cell_type": "code",
      "source": [],
      "metadata": {
        "id": "3L332v3ZUonW"
      },
      "execution_count": null,
      "outputs": []
    },
    {
      "cell_type": "code",
      "source": [],
      "metadata": {
        "id": "88egZGsESLtE"
      },
      "execution_count": null,
      "outputs": []
    },
    {
      "cell_type": "code",
      "source": [],
      "metadata": {
        "id": "Qr2O7-1XSLv6"
      },
      "execution_count": null,
      "outputs": []
    }
  ]
}